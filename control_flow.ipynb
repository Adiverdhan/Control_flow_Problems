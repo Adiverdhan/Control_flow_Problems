{
 "cells": [
  {
   "cell_type": "markdown",
   "id": "b480e441-47fd-4c38-8d19-efdb871e5adb",
   "metadata": {},
   "source": [
    "1. Write a Python program to check if a given number is positive or negative."
   ]
  },
  {
   "cell_type": "code",
   "execution_count": 1,
   "id": "d23dc63f-0d81-4453-be01-d51cfbf01f04",
   "metadata": {},
   "outputs": [
    {
     "name": "stdin",
     "output_type": "stream",
     "text": [
      " -12\n"
     ]
    },
    {
     "name": "stdout",
     "output_type": "stream",
     "text": [
      "No. is negative\n"
     ]
    }
   ],
   "source": [
    "m=int(input())\n",
    "if m>=0:\n",
    "    print(\"No. is positive\")\n",
    "else:\n",
    "    print(\"No. is negative\")\n",
    "    "
   ]
  },
  {
   "cell_type": "markdown",
   "id": "1f846053-87c7-496f-a8c3-71ae88146197",
   "metadata": {},
   "source": [
    "2. Create a program that determines if a person is eligible to vote based on their age."
   ]
  },
  {
   "cell_type": "code",
   "execution_count": 2,
   "id": "d59a28d6-4c91-43e1-a96a-5ce027d8dc51",
   "metadata": {},
   "outputs": [
    {
     "name": "stdin",
     "output_type": "stream",
     "text": [
      " 14\n"
     ]
    },
    {
     "name": "stdout",
     "output_type": "stream",
     "text": [
      "Eligible not to vote\n"
     ]
    }
   ],
   "source": [
    "age_of_person=int(input())\n",
    "if age_of_person >=18:\n",
    "    print(\"Eligible to vote\")\n",
    "else:\n",
    "    print(\"Eligible not to vote\")    "
   ]
  },
  {
   "cell_type": "markdown",
   "id": "24208b21-dd53-413f-9c4e-5bf07b728435",
   "metadata": {},
   "source": [
    "3. Develop a program to find the maximum of two numbers using if-else statements."
   ]
  },
  {
   "cell_type": "code",
   "execution_count": 1,
   "id": "e1d7d218-6566-498c-adaf-6981ad37c8d8",
   "metadata": {},
   "outputs": [
    {
     "name": "stdin",
     "output_type": "stream",
     "text": [
      "m= 12\n",
      "n= 77\n"
     ]
    },
    {
     "name": "stdout",
     "output_type": "stream",
     "text": [
      "77 is greater\n"
     ]
    }
   ],
   "source": [
    "m=int(input(\"m=\"))\n",
    "n=int(input(\"n=\"))\n",
    "if m>n:\n",
    "    print(m,\"is grater\")\n",
    "else:\n",
    "    print(n,\"is greater\")\n",
    "    "
   ]
  },
  {
   "cell_type": "markdown",
   "id": "aa2e8262-81ca-4b02-b0e3-f4bc56b2bc66",
   "metadata": {},
   "source": [
    "4. Write a Python script to classify a given year as a leap year or not."
   ]
  },
  {
   "cell_type": "code",
   "execution_count": 5,
   "id": "1df944e5-e1d6-4dce-aa86-481fa356f99a",
   "metadata": {},
   "outputs": [
    {
     "name": "stdin",
     "output_type": "stream",
     "text": [
      " 2012\n"
     ]
    },
    {
     "name": "stdout",
     "output_type": "stream",
     "text": [
      "2012 is a leap year\n"
     ]
    }
   ],
   "source": [
    "year = int(input())\n",
    "if (year % 400 == 0) and (year % 100 == 0):\n",
    "    print(\"{0} is a leap year\".format(year))\n",
    "elif (year % 4 ==0) and (year % 100 != 0):\n",
    "    print(\"{0} is a leap year\".format(year))\n",
    "else:\n",
    "    print(\"{0} is not a leap year\".format(year))"
   ]
  },
  {
   "cell_type": "markdown",
   "id": "2af25bf0-15df-4107-867e-175caa1e851c",
   "metadata": {},
   "source": [
    "5. Create a program that checks whether a character is a vowel or a consonant."
   ]
  },
  {
   "cell_type": "code",
   "execution_count": 5,
   "id": "7c9d8f95-160a-4795-92e5-efc3b50b7e8b",
   "metadata": {},
   "outputs": [
    {
     "name": "stdin",
     "output_type": "stream",
     "text": [
      "Enter a character:  o\n"
     ]
    },
    {
     "name": "stdout",
     "output_type": "stream",
     "text": [
      "o is a vowel.\n"
     ]
    }
   ],
   "source": [
    "char = input(\"Enter a character: \")\n",
    "if len(char) == 1:\n",
    "    char = char.lower()\n",
    "    if char.isalpha():\n",
    "        if char in ('a', 'e', 'i', 'o', 'u'):\n",
    "            print(f\"{char} is a vowel.\")\n",
    "        else:\n",
    "            print(f\"{char} is a consonant.\")\n",
    "    else:\n",
    "        print(\"Please enter an alphabetic character.\")\n",
    "else:\n",
    "    print(\"Please enter a single character.\")\n",
    "\n",
    "        "
   ]
  },
  {
   "cell_type": "markdown",
   "id": "ef1036cb-2212-44b0-a5aa-9a9b66aa48e3",
   "metadata": {},
   "source": [
    "6. Implement a program to determine whether a given number is even or odd."
   ]
  },
  {
   "cell_type": "code",
   "execution_count": 6,
   "id": "2f3020cb-6f32-4685-883d-911d0097ca23",
   "metadata": {},
   "outputs": [
    {
     "name": "stdin",
     "output_type": "stream",
     "text": [
      " 14\n"
     ]
    },
    {
     "name": "stdout",
     "output_type": "stream",
     "text": [
      "14 is even no.\n"
     ]
    }
   ],
   "source": [
    "n=int(input())\n",
    "if n%2==0:\n",
    "    print(n,\"is even no.\")\n",
    "else:\n",
    "    print(n,\"is odd no.\")"
   ]
  },
  {
   "cell_type": "markdown",
   "id": "f28e319f-33d5-4428-bbd0-a92d9149dbfa",
   "metadata": {},
   "source": [
    "7. Write a Python function to calculate the absolute value of a number without using the `abs()` function."
   ]
  },
  {
   "cell_type": "code",
   "execution_count": 7,
   "id": "74971655-433e-4d6d-a3c4-02e69c6a8181",
   "metadata": {},
   "outputs": [
    {
     "name": "stdin",
     "output_type": "stream",
     "text": [
      "Enter a number:  141\n"
     ]
    },
    {
     "name": "stdout",
     "output_type": "stream",
     "text": [
      "The absolute value of 141.0 is 141.0\n"
     ]
    }
   ],
   "source": [
    "def calculate_absolute_value(number):\n",
    "    if number < 0:\n",
    "        return -number\n",
    "    else:\n",
    "        return number\n",
    "num = float(input(\"Enter a number: \"))\n",
    "absolute_value = calculate_absolute_value(num)\n",
    "print(f\"The absolute value of {num} is {absolute_value}\")\n"
   ]
  },
  {
   "cell_type": "markdown",
   "id": "343ada66-ff34-4de3-97e1-4cb51e516829",
   "metadata": {},
   "source": [
    "8. Develop a program that determines the largest of three given numbers using if-else statements."
   ]
  },
  {
   "cell_type": "code",
   "execution_count": 6,
   "id": "086dc62a-1c92-4934-ad92-f6b74eb4f843",
   "metadata": {},
   "outputs": [
    {
     "name": "stdin",
     "output_type": "stream",
     "text": [
      "Enter the first number:  55\n",
      "Enter the second number:  50\n",
      "Enter the third number:  55\n"
     ]
    },
    {
     "name": "stdout",
     "output_type": "stream",
     "text": [
      "The largest number among 55.0 , 50.0 , and 55.0 is 55.0\n"
     ]
    }
   ],
   "source": [
    "num1 = float(input(\"Enter the first number: \"))\n",
    "num2 = float(input(\"Enter the second number: \"))\n",
    "num3 = float(input(\"Enter the third number: \"))\n",
    "if num1 >= num2:\n",
    "    if num1 >= num3:\n",
    "        largest = num1\n",
    "    else:\n",
    "        largest = num3\n",
    "else:\n",
    "    if num2 >= num3:\n",
    "        largest = num2\n",
    "    else:\n",
    "        largest = num3\n",
    "print(\"The largest number among\", num1, \",\", num2, \", and\", num3, \"is\", largest)\n"
   ]
  },
  {
   "cell_type": "markdown",
   "id": "1abeab24-296a-4813-9a97-1c44fabe247b",
   "metadata": {},
   "source": [
    "9. Create a program that checks if a given string is a palindrome."
   ]
  },
  {
   "cell_type": "code",
   "execution_count": 15,
   "id": "9da94b41-d792-4c68-8cb7-67e9548e9847",
   "metadata": {},
   "outputs": [
    {
     "name": "stdin",
     "output_type": "stream",
     "text": [
      " madam\n"
     ]
    },
    {
     "name": "stdout",
     "output_type": "stream",
     "text": [
      "madam is a palindrome\n"
     ]
    }
   ],
   "source": [
    "str=input()\n",
    "m=str[::-1]\n",
    "if str==m:\n",
    "    print(str,\"is a palindrome\")\n",
    "else:\n",
    "    print(str,\"is not a palindrome\")"
   ]
  },
  {
   "cell_type": "markdown",
   "id": "341c15c9-9cb4-43d9-a170-4d486f7be318",
   "metadata": {},
   "source": [
    "10. Write a Python program to calculate the grade based on a student's score."
   ]
  },
  {
   "cell_type": "code",
   "execution_count": 21,
   "id": "65c155f3-7a4e-430f-ae87-a89a06c23c57",
   "metadata": {},
   "outputs": [
    {
     "name": "stdin",
     "output_type": "stream",
     "text": [
      "Enter the student's score:  64\n"
     ]
    },
    {
     "name": "stdout",
     "output_type": "stream",
     "text": [
      "The student's grade is: D\n"
     ]
    }
   ],
   "source": [
    "score = float(input(\"Enter the student's score: \"))\n",
    "A_grade = 90\n",
    "B_grade = 80\n",
    "C_grade = 70\n",
    "D_grade = 60\n",
    "if score >= A_grade:\n",
    "    grade = 'A'\n",
    "elif score >= B_grade:\n",
    "    grade = 'B'\n",
    "elif score >= C_grade:\n",
    "    grade = 'C'\n",
    "elif score >= D_grade:\n",
    "    grade = 'D'\n",
    "else:\n",
    "    grade = 'F'\n",
    "print(f\"The student's grade is: {grade}\")\n",
    "\n"
   ]
  },
  {
   "cell_type": "markdown",
   "id": "a7defd6c-a2a1-4090-866b-6cd314b7e3fd",
   "metadata": {},
   "source": [
    "11. Write a program to find the largest among three numbers using nested if-else statements."
   ]
  },
  {
   "cell_type": "code",
   "execution_count": 1,
   "id": "42a42d0d-87f6-4952-90df-fc8a818acd08",
   "metadata": {},
   "outputs": [
    {
     "name": "stdin",
     "output_type": "stream",
     "text": [
      "Enter the first number:  14\n",
      "Enter the second number:  17\n",
      "Enter the third number:  2\n"
     ]
    },
    {
     "name": "stdout",
     "output_type": "stream",
     "text": [
      "The largest number among 14.0 , 17.0 , and 2.0 is 17.0\n"
     ]
    }
   ],
   "source": [
    "num1 = float(input(\"Enter the first number: \"))\n",
    "num2 = float(input(\"Enter the second number: \"))\n",
    "num3 = float(input(\"Enter the third number: \"))\n",
    "if num1 >= num2:\n",
    "    if num1 >= num3:\n",
    "        largest = num1\n",
    "    else:\n",
    "        largest = num3\n",
    "else:\n",
    "    if num2 >= num3:\n",
    "        largest = num2\n",
    "    else:\n",
    "        largest = num3\n",
    "print(\"The largest number among\", num1, \",\", num2, \", and\", num3, \"is\", largest)\n"
   ]
  },
  {
   "cell_type": "markdown",
   "id": "9ff00bfd-1185-4a83-af7e-973bf543eb42",
   "metadata": {},
   "source": [
    "12. Implement a program to determine if a triangle is equilateral, isosceles, or scalene."
   ]
  },
  {
   "cell_type": "code",
   "execution_count": 2,
   "id": "e2a3e620-80e0-463f-8de3-74a64d00e926",
   "metadata": {},
   "outputs": [
    {
     "name": "stdin",
     "output_type": "stream",
     "text": [
      "Enter the length of the first side:  12\n",
      "Enter the length of the second side:  2\n",
      "Enter the length of the third side:  12\n"
     ]
    },
    {
     "name": "stdout",
     "output_type": "stream",
     "text": [
      "The triangle is isosceles\n"
     ]
    }
   ],
   "source": [
    "side1 = float(input(\"Enter the length of the first side: \"))\n",
    "side2 = float(input(\"Enter the length of the second side: \"))\n",
    "side3 = float(input(\"Enter the length of the third side: \"))\n",
    "if side1 + side2 > side3 and side1 + side3 > side2 and side2 + side3 > side1:\n",
    "    if side1 == side2 == side3:\n",
    "        triangle_type = \"equilateral\"\n",
    "    elif side1 == side2 or side1 == side3 or side2 == side3:\n",
    "        triangle_type = \"isosceles\"\n",
    "    else:\n",
    "        triangle_type = \"scalene\"\n",
    "    print(\"The triangle is\", triangle_type)\n",
    "else:\n",
    "    print(\"The given side lengths do not form a valid triangle.\")\n"
   ]
  },
  {
   "cell_type": "markdown",
   "id": "5b892509-300e-4e9b-b27c-c20a36705cdd",
   "metadata": {},
   "source": [
    "13. Develop a program that checks if a year is a leap year and also if it is a century year."
   ]
  },
  {
   "cell_type": "code",
   "execution_count": 3,
   "id": "758fc2b0-28ef-4986-a815-c9b839607cca",
   "metadata": {},
   "outputs": [
    {
     "name": "stdin",
     "output_type": "stream",
     "text": [
      "Enter a year:  2024\n"
     ]
    },
    {
     "name": "stdout",
     "output_type": "stream",
     "text": [
      "2024 is a leap year.\n"
     ]
    }
   ],
   "source": [
    "year = int(input(\"Enter a year: \"))\n",
    "is_leap_year = False\n",
    "if year % 4 == 0:\n",
    "    if year % 100 == 0:\n",
    "        if year % 400 == 0:\n",
    "            is_leap_year = True\n",
    "    else:\n",
    "        is_leap_year = True\n",
    "is_century_year = year % 100 == 0\n",
    "if is_leap_year:\n",
    "    print(year, \"is a leap year.\")\n",
    "    if is_century_year:\n",
    "        print(year, \"is also a century year.\")\n",
    "else:\n",
    "    print(year, \"is not a leap year.\")\n"
   ]
  },
  {
   "cell_type": "markdown",
   "id": "b73fa6e2-f4c8-4e0e-be64-f684e355d4a3",
   "metadata": {},
   "source": [
    "14. Write a Python script to determine if a number is positive, negative, or zero."
   ]
  },
  {
   "cell_type": "code",
   "execution_count": 4,
   "id": "9a313486-7795-4123-a9f2-1fa8b660df2f",
   "metadata": {},
   "outputs": [
    {
     "name": "stdin",
     "output_type": "stream",
     "text": [
      "no. 01\n"
     ]
    },
    {
     "name": "stdout",
     "output_type": "stream",
     "text": [
      "1 is positive number\n"
     ]
    }
   ],
   "source": [
    "no=int(input(\"no.\"))\n",
    "if no >0:\n",
    "    print(f\"{no} is positive number\")\n",
    "elif no <0:\n",
    "    print(f\"{no} is negative no\")\n",
    "else:\n",
    "    print(f\"{no} is zero\")\n",
    "             "
   ]
  },
  {
   "cell_type": "markdown",
   "id": "ff8ee5fb-42fa-40f7-9afd-c384777813fb",
   "metadata": {},
   "source": [
    "15. Create a program to check if a person is a teenager (between 13 and 19 years old)."
   ]
  },
  {
   "cell_type": "code",
   "execution_count": 5,
   "id": "d1b6004d-2768-490f-bed3-f1b1629337a2",
   "metadata": {},
   "outputs": [
    {
     "name": "stdin",
     "output_type": "stream",
     "text": [
      "no. 3\n"
     ]
    },
    {
     "name": "stdout",
     "output_type": "stream",
     "text": [
      "Person is a teenager\n"
     ]
    }
   ],
   "source": [
    "teen=int(input(\"no.\"))\n",
    "if teen>=13 & teen<=19:\n",
    "    print(\"Person is a teenager\")\n",
    "else:\n",
    "    print(\"Person is not a teenager\")\n",
    "    \n"
   ]
  },
  {
   "cell_type": "markdown",
   "id": "76f2b022-9de7-4fb1-ae8a-b22ee064e2ae",
   "metadata": {},
   "source": [
    "16. Develop a program that determines the type of angle based on its measure (acute, obtuse, or right)."
   ]
  },
  {
   "cell_type": "code",
   "execution_count": 8,
   "id": "38c8486e-46dc-4095-9467-6d31b048635b",
   "metadata": {},
   "outputs": [
    {
     "name": "stdin",
     "output_type": "stream",
     "text": [
      "Angle= 44\n"
     ]
    },
    {
     "name": "stdout",
     "output_type": "stream",
     "text": [
      "44 is acute angle\n"
     ]
    }
   ],
   "source": [
    "angle=int(input(\"Angle=\"))\n",
    "if angle>=0 & angle<90:\n",
    "    print(f\"{angle} is acute angle\")\n",
    "elif angle>90 & angle<=90:\n",
    "    print(f\"{angle} is obtuse angle\")\n",
    "elif angle==90:\n",
    "    print(f\"{angle} is right angled\")\n"
   ]
  },
  {
   "cell_type": "markdown",
   "id": "1baf22e0-53c5-4cb0-bfce-38d566916fee",
   "metadata": {},
   "source": [
    "17. Write a Python program to calculate the roots of a quadratic equation."
   ]
  },
  {
   "cell_type": "code",
   "execution_count": 9,
   "id": "ed1da484-9ca8-43af-8e8a-31de9635cfbb",
   "metadata": {},
   "outputs": [
    {
     "name": "stdin",
     "output_type": "stream",
     "text": [
      "Enter coefficient a:  10\n",
      "Enter coefficient b:  20\n",
      "Enter coefficient c:  30\n"
     ]
    },
    {
     "name": "stdout",
     "output_type": "stream",
     "text": [
      "Root 1: -1.0 + 1.4142135623730951i\n",
      "Root 2: -1.0 - 1.4142135623730951i\n"
     ]
    }
   ],
   "source": [
    "import math\n",
    "a = float(input(\"Enter coefficient a: \"))\n",
    "b = float(input(\"Enter coefficient b: \"))\n",
    "c = float(input(\"Enter coefficient c: \"))\n",
    "discriminant = b**2 - 4*a*c\n",
    "if discriminant > 0:\n",
    "    root1 = (-b + math.sqrt(discriminant)) / (2*a)\n",
    "    root2 = (-b - math.sqrt(discriminant)) / (2*a)\n",
    "    print(f\"Root 1: {root1}\")\n",
    "    print(f\"Root 2: {root2}\")\n",
    "elif discriminant == 0:\n",
    "    root = -b / (2*a)\n",
    "    print(f\"Root: {root}\")\n",
    "else:\n",
    "    real_part = -b / (2*a)\n",
    "    imaginary_part = math.sqrt(abs(discriminant)) / (2*a)\n",
    "    print(f\"Root 1: {real_part} + {imaginary_part}i\")\n",
    "    print(f\"Root 2: {real_part} - {imaginary_part}i\")\n"
   ]
  },
  {
   "cell_type": "markdown",
   "id": "b7781377-c840-4d43-a6dc-4464105c6cf2",
   "metadata": {},
   "source": [
    "18. Implement a program to determine the day of the week based on a user-provided number (1 for Monday, 2\n",
    "for Tuesday, etc.)."
   ]
  },
  {
   "cell_type": "code",
   "execution_count": 10,
   "id": "036394df-408c-40fd-84a5-3c61a6fd6cb5",
   "metadata": {},
   "outputs": [
    {
     "name": "stdin",
     "output_type": "stream",
     "text": [
      "Enter a number (1 for Monday, 2 for Tuesday, etc.):  5\n"
     ]
    },
    {
     "name": "stdout",
     "output_type": "stream",
     "text": [
      "The day of the week corresponding to 5 is Friday.\n"
     ]
    }
   ],
   "source": [
    "day_number = int(input(\"Enter a number (1 for Monday, 2 for Tuesday, etc.): \"))\n",
    "if day_number == 1:\n",
    "    day = \"Monday\"\n",
    "elif day_number == 2:\n",
    "    day = \"Tuesday\"\n",
    "elif day_number == 3:\n",
    "    day = \"Wednesday\"\n",
    "elif day_number == 4:\n",
    "    day = \"Thursday\"\n",
    "elif day_number == 5:\n",
    "    day = \"Friday\"\n",
    "elif day_number == 6:\n",
    "    day = \"Saturday\"\n",
    "elif day_number == 7:\n",
    "    day = \"Sunday\"\n",
    "else:\n",
    "    day = \"Invalid input\"\n",
    "print(f\"The day of the week corresponding to {day_number} is {day}.\")\n"
   ]
  },
  {
   "cell_type": "code",
   "execution_count": null,
   "id": "a111a6ff-eba3-4cde-9256-ead8c8166cd8",
   "metadata": {},
   "outputs": [],
   "source": [
    "19. Create a program that determines if a year is a leap year and also if it is evenly divisible by 400."
   ]
  },
  {
   "cell_type": "code",
   "execution_count": 13,
   "id": "4390b788-b46b-4968-a222-37d4885edfa5",
   "metadata": {},
   "outputs": [
    {
     "name": "stdin",
     "output_type": "stream",
     "text": [
      "Enter a year:  2024\n"
     ]
    },
    {
     "name": "stdout",
     "output_type": "stream",
     "text": [
      "2024 is a leap year.\n"
     ]
    }
   ],
   "source": [
    "year = int(input(\"Enter a year: \"))\n",
    "if (year % 4 == 0 and year % 100 != 0) or (year % 400 == 0):\n",
    "    print(f\"{year} is a leap year.\")\n",
    "else:\n",
    "    print(f\"{year} is not a leap year.\")\n"
   ]
  },
  {
   "cell_type": "markdown",
   "id": "f57dbebf-82d8-489a-bb29-192b5f34ab7a",
   "metadata": {},
   "source": [
    "20. Develop a program that checks if a given number is prime or not using nested if-else statements."
   ]
  },
  {
   "cell_type": "code",
   "execution_count": 14,
   "id": "dcccfe9f-8d68-4f09-8ca9-8fffe2cbcdd3",
   "metadata": {},
   "outputs": [
    {
     "name": "stdin",
     "output_type": "stream",
     "text": [
      "Enter a number:  9\n"
     ]
    },
    {
     "name": "stdout",
     "output_type": "stream",
     "text": [
      "9 is not a prime number.\n"
     ]
    }
   ],
   "source": [
    "num = int(input(\"Enter a number: \"))\n",
    "if num < 2:\n",
    "    is_prime = False\n",
    "else:\n",
    "    is_prime = True\n",
    "    for i in range(2, int(num**0.5) + 1):\n",
    "        if num % i == 0:\n",
    "            is_prime = False\n",
    "            break\n",
    "if is_prime:\n",
    "    print(f\"{num} is a prime number.\")\n",
    "else:\n",
    "    print(f\"{num} is not a prime number.\")\n"
   ]
  },
  {
   "cell_type": "markdown",
   "id": "bc0ebbf4-9b58-4cb3-8b5e-97d99c81aede",
   "metadata": {},
   "source": [
    "21. Write a Python program to assign grades based on different ranges of scores using elif statements."
   ]
  },
  {
   "cell_type": "code",
   "execution_count": 1,
   "id": "b2df0a29-a8e7-4cad-be8b-fc40b7462361",
   "metadata": {},
   "outputs": [
    {
     "name": "stdin",
     "output_type": "stream",
     "text": [
      "Enter the score:  100\n"
     ]
    },
    {
     "name": "stdout",
     "output_type": "stream",
     "text": [
      "Grade: A\n"
     ]
    }
   ],
   "source": [
    "score = int(input(\"Enter the score: \"))\n",
    "if 90 <= score <= 100:\n",
    "    grade = \"A\"\n",
    "elif 80 <= score < 90:\n",
    "    grade = \"B\"\n",
    "elif 70 <= score < 80:\n",
    "    grade = \"C\"\n",
    "elif 60 <= score < 70:\n",
    "    grade = \"D\"\n",
    "elif 0 <= score < 60:\n",
    "    grade = \"F\"\n",
    "else:\n",
    "    grade = \"Invalid score\"\n",
    "print(f\"Grade: {grade}\")\n"
   ]
  },
  {
   "cell_type": "markdown",
   "id": "a61c0ccb-fa1c-4e16-aba6-097b2789ae67",
   "metadata": {},
   "source": [
    "22. Implement a program to determine the type of a triangle based on its angles."
   ]
  },
  {
   "cell_type": "code",
   "execution_count": 2,
   "id": "da2adb64-fd2b-45aa-8e9c-36c07ef8d827",
   "metadata": {},
   "outputs": [
    {
     "name": "stdin",
     "output_type": "stream",
     "text": [
      "Enter the first angle in degrees:  40\n",
      "Enter the second angle in degrees:  40\n",
      "Enter the third angle in degrees:  100\n"
     ]
    },
    {
     "name": "stdout",
     "output_type": "stream",
     "text": [
      "This is an isosceles triangle.\n"
     ]
    }
   ],
   "source": [
    "angle1 = float(input(\"Enter the first angle in degrees: \"))\n",
    "angle2 = float(input(\"Enter the second angle in degrees: \"))\n",
    "angle3 = float(input(\"Enter the third angle in degrees: \"))\n",
    "angle_sum = angle1 + angle2 + angle3\n",
    "if angle_sum != 180:\n",
    "    print(\"This is not a valid triangle.\")\n",
    "else:\n",
    "    if angle1 == angle2 == angle3:\n",
    "        print(\"This is an equilateral triangle.\")\n",
    "    elif angle1 == angle2 or angle1 == angle3 or angle2 == angle3:\n",
    "        print(\"This is an isosceles triangle.\")\n",
    "    else:\n",
    "        print(\"This is a scalene triangle.\")\n"
   ]
  },
  {
   "cell_type": "markdown",
   "id": "d76708e4-0b3a-45b5-9b64-8acced18a2c7",
   "metadata": {},
   "source": [
    "23. Develop a program to categorize a given person's BMI into underweight, normal, overweight, or obese using\n",
    "elif statements."
   ]
  },
  {
   "cell_type": "code",
   "execution_count": 4,
   "id": "f884891d-0b1a-4301-b0f4-3444f5a314dd",
   "metadata": {},
   "outputs": [
    {
     "name": "stdin",
     "output_type": "stream",
     "text": [
      "Enter your weight in kilograms:  71\n",
      "Enter your height in meters:  1.79\n"
     ]
    },
    {
     "name": "stdout",
     "output_type": "stream",
     "text": [
      "Your BMI is 22.16, which falls into the category: Normal Weight\n"
     ]
    }
   ],
   "source": [
    "weight = float(input(\"Enter your weight in kilograms: \"))\n",
    "height = float(input(\"Enter your height in meters: \"))\n",
    "bmi = weight / (height * height)\n",
    "\n",
    "if bmi < 18.5:\n",
    "    category = \"Underweight\"\n",
    "elif 18.5 <= bmi < 24.9:\n",
    "    category = \"Normal Weight\"\n",
    "elif 25 <= bmi < 29.9:\n",
    "    category = \"Overweight\"\n",
    "else:\n",
    "    category = \"Obese\"\n",
    "print(f\"Your BMI is {bmi:.2f}, which falls into the category: {category}\")\n"
   ]
  },
  {
   "cell_type": "markdown",
   "id": "bb78e83a-dde9-471c-b5ea-13975e4d7dce",
   "metadata": {},
   "source": [
    "24. Create a program that determines whether a given number is positive, negative, or zero using elif\n",
    "statements."
   ]
  },
  {
   "cell_type": "code",
   "execution_count": 8,
   "id": "6bc4a025-c90b-4def-b407-36bb1bbb73bd",
   "metadata": {},
   "outputs": [
    {
     "name": "stdin",
     "output_type": "stream",
     "text": [
      "No. is -2.1\n"
     ]
    },
    {
     "name": "stdout",
     "output_type": "stream",
     "text": [
      "-2.1 is negative number.\n"
     ]
    }
   ],
   "source": [
    "h=float(input(\"No. is\"))\n",
    "if h>0:\n",
    "    print(f\"{h} is positive number.\")\n",
    "elif h<0:\n",
    "    print(f\"{h} is negative number.\")\n",
    "else:\n",
    "    print(\"No. is zero\")"
   ]
  },
  {
   "cell_type": "markdown",
   "id": "75d4ea65-d607-4321-b6da-940c51158b17",
   "metadata": {},
   "source": [
    "25. Write a Python script to determine the type of a character (uppercase, lowercase, or special) using elif\n",
    "statements."
   ]
  },
  {
   "cell_type": "code",
   "execution_count": 9,
   "id": "4df7cf2b-bd83-4731-bee8-7ac5c958d3cc",
   "metadata": {},
   "outputs": [
    {
     "name": "stdin",
     "output_type": "stream",
     "text": [
      "Enter a character:  /\n"
     ]
    },
    {
     "name": "stdout",
     "output_type": "stream",
     "text": [
      "The character is special.\n"
     ]
    }
   ],
   "source": [
    "character = input(\"Enter a character: \")\n",
    "if character.isalpha():\n",
    "    if character.islower():\n",
    "        print(\"The character is lowercase.\")\n",
    "    elif character.isupper():\n",
    "        print(\"The character is uppercase.\")\n",
    "else:\n",
    "    print(\"The character is special.\")\n"
   ]
  },
  {
   "cell_type": "markdown",
   "id": "632dfec6-dee4-4e94-97fc-b4299a89aac1",
   "metadata": {},
   "source": [
    "26. Implement a program to calculate the discounted price based on different purchase amounts using elif\n",
    "statements."
   ]
  },
  {
   "cell_type": "code",
   "execution_count": 12,
   "id": "e0bed80c-8f9c-4f58-850c-2426e87461a2",
   "metadata": {},
   "outputs": [
    {
     "name": "stdin",
     "output_type": "stream",
     "text": [
      "Enter the purchase amount: Rs 4777\n"
     ]
    },
    {
     "name": "stdout",
     "output_type": "stream",
     "text": [
      "Discounted Price: Rs3343.90\n"
     ]
    }
   ],
   "source": [
    "purchase_amount = float(input(\"Enter the purchase amount: Rs\"))\n",
    "\n",
    "discount_rate_10 = 0.10  \n",
    "discount_rate_20 = 0.20  \n",
    "discount_rate_30 = 0.30  \n",
    "final_price = 0\n",
    "if purchase_amount >= 1000:\n",
    "    final_price = purchase_amount - (purchase_amount * discount_rate_30)\n",
    "elif purchase_amount >= 500:\n",
    "    final_price = purchase_amount - (purchase_amount * discount_rate_20)\n",
    "elif purchase_amount >= 200:\n",
    "    final_price = purchase_amount - (purchase_amount * discount_rate_10)\n",
    "else:\n",
    "    final_price = purchase_amount\n",
    "print(f\"Discounted Price: Rs{final_price:.2f}\")\n"
   ]
  },
  {
   "cell_type": "markdown",
   "id": "8b2a3421-b7f6-4613-81ff-6a3f5f9b2322",
   "metadata": {},
   "source": [
    "27. Develop a program to calculate the electricity bill based on different consumption slabs using elif\n",
    "statements."
   ]
  },
  {
   "cell_type": "code",
   "execution_count": 13,
   "id": "77d1ed6a-1066-4004-bda8-25a482b6476a",
   "metadata": {},
   "outputs": [
    {
     "name": "stdin",
     "output_type": "stream",
     "text": [
      "Enter the electricity consumption in kilowatt-hours (kWh):  235\n"
     ]
    },
    {
     "name": "stdout",
     "output_type": "stream",
     "text": [
      "Total Electricity Bill: Rs42.00\n"
     ]
    }
   ],
   "source": [
    "consumption = float(input(\"Enter the electricity consumption in kilowatt-hours (kWh): \"))\n",
    "\n",
    "rate_slab1 = 0.15  \n",
    "rate_slab2 = 0.20  \n",
    "rate_slab3 = 0.25  \n",
    "total_bill = 0\n",
    "if consumption <= 100:\n",
    "    total_bill = consumption * rate_slab1\n",
    "elif consumption <= 300:\n",
    "    total_bill = (100 * rate_slab1) + ((consumption - 100) * rate_slab2)\n",
    "else:\n",
    "    total_bill = (100 * rate_slab1) + (200 * rate_slab2) + ((consumption - 300) * rate_slab3)\n",
    "print(f\"Total Electricity Bill: Rs{total_bill:.2f}\")\n"
   ]
  },
  {
   "cell_type": "markdown",
   "id": "180f324c-8953-460d-aeba-3caab8abcad0",
   "metadata": {},
   "source": [
    "28. Create a program to determine the type of quadrilateral based on its angles and sides using elif\n",
    "statements."
   ]
  },
  {
   "cell_type": "code",
   "execution_count": 1,
   "id": "2622f937-a3f9-4287-8347-69a1361261a2",
   "metadata": {},
   "outputs": [
    {
     "name": "stdin",
     "output_type": "stream",
     "text": [
      "Enter the length of side 1:  90\n",
      "Enter the length of side 2:  80\n",
      "Enter the length of side 3:  70\n",
      "Enter the length of side 4:  120\n",
      "Enter the measure of angle 1 in degrees:  80\n",
      "Enter the measure of angle 2 in degrees:  70\n",
      "Enter the measure of angle 3 in degrees:  80\n",
      "Enter the measure of angle 4 in degrees:  130\n"
     ]
    },
    {
     "name": "stdout",
     "output_type": "stream",
     "text": [
      "It's a quadrilateral, but not a specific type.\n"
     ]
    }
   ],
   "source": [
    "side1 = float(input(\"Enter the length of side 1: \"))\n",
    "side2 = float(input(\"Enter the length of side 2: \"))\n",
    "side3 = float(input(\"Enter the length of side 3: \"))\n",
    "side4 = float(input(\"Enter the length of side 4: \"))\n",
    "angle1 = float(input(\"Enter the measure of angle 1 in degrees: \"))\n",
    "angle2 = float(input(\"Enter the measure of angle 2 in degrees: \"))\n",
    "angle3 = float(input(\"Enter the measure of angle 3 in degrees: \"))\n",
    "angle4 = float(input(\"Enter the measure of angle 4 in degrees: \"))\n",
    "if (angle1 + angle2 + angle3 + angle4) == 360:\n",
    "    if side1 == side2 == side3 == side4:\n",
    "        if angle1 == angle2 == angle3 == angle4:\n",
    "            print(\"It's a square.\")\n",
    "        else:\n",
    "            print(\"It's a rectangle.\")\n",
    "    elif side1 == side3 and side2 == side4:\n",
    "        if angle1 == angle3 and angle2 == angle4:\n",
    "            print(\"It's a parallelogram.\")\n",
    "        else:\n",
    "            print(\"It's a trapezoid.\")\n",
    "    else:\n",
    "        print(\"It's a quadrilateral, but not a specific type.\")\n",
    "else:\n",
    "    print(\"It's not a quadrilateral.\")\n"
   ]
  },
  {
   "cell_type": "markdown",
   "id": "9c035604-cf4a-416b-a521-2c62307e2239",
   "metadata": {},
   "source": [
    "29. Write a Python script to determine the season based on a user-provided month using elif statements."
   ]
  },
  {
   "cell_type": "code",
   "execution_count": 3,
   "id": "94be857b-cf27-4007-991c-4738d877dbda",
   "metadata": {},
   "outputs": [
    {
     "name": "stdin",
     "output_type": "stream",
     "text": [
      "Enter a month (e.g., January, February, etc.):  june\n"
     ]
    },
    {
     "name": "stdout",
     "output_type": "stream",
     "text": [
      "june is in the Summer season.\n"
     ]
    }
   ],
   "source": [
    "month = input(\"Enter a month (e.g., January, February, etc.): \").lower()\n",
    "if month in [\"december\", \"january\", \"february\"]:\n",
    "    season = \"Winter\"\n",
    "elif month in [\"march\", \"april\", \"may\"]:\n",
    "    season = \"Spring\"\n",
    "elif month in [\"june\", \"july\", \"august\"]:\n",
    "    season = \"Summer\"\n",
    "elif month in [\"september\", \"october\", \"november\"]:\n",
    "    season = \"Autumn (Fall)\"\n",
    "else:\n",
    "    season = \"Invalid Month\"\n",
    "if season != \"Invalid Month\":\n",
    "    print(f\"{month} is in the {season} season.\")\n",
    "else:\n",
    "    print(\"Please enter a valid month.\")\n"
   ]
  },
  {
   "cell_type": "markdown",
   "id": "b4fda7c8-8259-4ed2-b478-4674f1572ea6",
   "metadata": {},
   "source": [
    "30. Implement a program to determine the type of a year (leap or common) and month (30 or 31 days) using\n",
    "elif statements."
   ]
  },
  {
   "cell_type": "code",
   "execution_count": 6,
   "id": "2180c759-156f-45a1-892c-836c83c1bd04",
   "metadata": {},
   "outputs": [
    {
     "name": "stdin",
     "output_type": "stream",
     "text": [
      "Enter a year:  2023\n",
      "Enter a month (1-12):  9\n"
     ]
    },
    {
     "name": "stdout",
     "output_type": "stream",
     "text": [
      "2023 is a Common Year, and the month of 9 has 30 days.\n"
     ]
    }
   ],
   "source": [
    "year = int(input(\"Enter a year: \"))\n",
    "month = int(input(\"Enter a month (1-12): \"))\n",
    "if (year % 4 == 0 and year % 100 != 0) or (year % 400 == 0):\n",
    "    is_leap_year = True\n",
    "else:\n",
    "    is_leap_year = False\n",
    "if month == 1 or month == 3 or month == 5 or month == 7 or month == 8 or month == 10 or month == 12:\n",
    "    days_in_month = 31\n",
    "elif month == 4 or month == 6 or month == 9 or month == 11:\n",
    "    days_in_month = 30\n",
    "elif month == 2:\n",
    "    if is_leap_year:\n",
    "        days_in_month = 29\n",
    "    else:\n",
    "        days_in_month = 28\n",
    "else:\n",
    "    print(\"Invalid month.\")\n",
    "    \n",
    "if is_leap_year:\n",
    "    year_type = \"Leap Year\"\n",
    "else:\n",
    "    year_type = \"Common Year\"\n",
    "\n",
    "print(f\"{year} is a {year_type}, and the month of {month} has {days_in_month} days.\")\n"
   ]
  },
  {
   "cell_type": "code",
   "execution_count": null,
   "id": "1e57f042-87e0-4df4-8af1-f5480b6d375b",
   "metadata": {},
   "outputs": [],
   "source": []
  }
 ],
 "metadata": {
  "kernelspec": {
   "display_name": "Python 3 (ipykernel)",
   "language": "python",
   "name": "python3"
  },
  "language_info": {
   "codemirror_mode": {
    "name": "ipython",
    "version": 3
   },
   "file_extension": ".py",
   "mimetype": "text/x-python",
   "name": "python",
   "nbconvert_exporter": "python",
   "pygments_lexer": "ipython3",
   "version": "3.10.8"
  }
 },
 "nbformat": 4,
 "nbformat_minor": 5
}
