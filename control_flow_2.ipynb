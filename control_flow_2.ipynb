{
 "cells": [
  {
   "cell_type": "markdown",
   "id": "41e99b90-cf30-409f-8109-f8207bc30735",
   "metadata": {},
   "source": [
    "1. Write a Python program that checks if a given number is positive, negative, or zero."
   ]
  },
  {
   "cell_type": "code",
   "execution_count": 1,
   "id": "ea46a4c3-1d1a-4b84-804b-775282d6b36f",
   "metadata": {},
   "outputs": [
    {
     "name": "stdin",
     "output_type": "stream",
     "text": [
      " 0\n"
     ]
    },
    {
     "name": "stdout",
     "output_type": "stream",
     "text": [
      "0 is zero\n"
     ]
    }
   ],
   "source": [
    "gno=int(input())\n",
    "if gno>=1:\n",
    "    print(gno,\"is a positive no.\")\n",
    "elif gno<0:\n",
    "    print(gno,\"is a negaitve no.\")\n",
    "else:\n",
    "    print(gno,\"is zero\")"
   ]
  },
  {
   "cell_type": "markdown",
   "id": "1846c066-2780-4630-a47a-5053f58cba51",
   "metadata": {},
   "source": [
    "2. Create a program to determine if a person is eligible to vote based on their age."
   ]
  },
  {
   "cell_type": "code",
   "execution_count": 2,
   "id": "b3bf1d69-eba4-4a55-ad0d-da1fe7fdf1dd",
   "metadata": {},
   "outputs": [
    {
     "name": "stdin",
     "output_type": "stream",
     "text": [
      "age 14\n"
     ]
    },
    {
     "name": "stdout",
     "output_type": "stream",
     "text": [
      "Eligible not to vote\n"
     ]
    }
   ],
   "source": [
    "age_of_person=int(input(\"age\"))\n",
    "if age_of_person >=18:\n",
    "    print(\"Eligible to vote\")\n",
    "else:\n",
    "    print(\"Eligible not to vote\")  "
   ]
  },
  {
   "cell_type": "markdown",
   "id": "c2306ff9-e961-44ec-8794-0750477c268a",
   "metadata": {},
   "source": [
    "3. Write a program to find the maximum of two given numbers using conditional statements."
   ]
  },
  {
   "cell_type": "code",
   "execution_count": 4,
   "id": "6d3dd759-40da-404a-b299-bf2580308aab",
   "metadata": {},
   "outputs": [
    {
     "name": "stdin",
     "output_type": "stream",
     "text": [
      "1st no. 125\n",
      "2nd no. 125\n"
     ]
    },
    {
     "name": "stdout",
     "output_type": "stream",
     "text": [
      "both are equal\n"
     ]
    }
   ],
   "source": [
    "num1=int(input(\"1st no.\"))\n",
    "num2=int(input(\"2nd no.\"))\n",
    "if num1>num2:\n",
    "    print(f\"{num1} is greater\")\n",
    "elif num2>num1:\n",
    "    print(f\"{num2} is greater\")\n",
    "else:\n",
    "    print(\"both are equal\")\n",
    "    "
   ]
  },
  {
   "cell_type": "code",
   "execution_count": null,
   "id": "eeb434d7-d7a8-4468-9e44-8b4c5514cf24",
   "metadata": {},
   "outputs": [],
   "source": [
    "4. Develop a program that calculates the grade of a student based on their exam score."
   ]
  },
  {
   "cell_type": "code",
   "execution_count": 5,
   "id": "20b4ba0b-2637-465a-a296-25fabbf72b70",
   "metadata": {},
   "outputs": [
    {
     "name": "stdin",
     "output_type": "stream",
     "text": [
      "Enter the student's score:  23\n"
     ]
    },
    {
     "name": "stdout",
     "output_type": "stream",
     "text": [
      "The student's grade is: F\n"
     ]
    }
   ],
   "source": [
    "score = float(input(\"Enter the student's score: \"))\n",
    "A_grade = 95\n",
    "B_grade = 85\n",
    "C_grade = 75\n",
    "D_grade = 65\n",
    "if score >= A_grade:\n",
    "    grade = 'A'\n",
    "elif score >= B_grade:\n",
    "    grade = 'B'\n",
    "elif score >= C_grade:\n",
    "    grade = 'C'\n",
    "elif score >= D_grade:\n",
    "    grade = 'D'\n",
    "else:\n",
    "    grade = 'F'\n",
    "print(f\"The student's grade is: {grade}\")"
   ]
  },
  {
   "cell_type": "markdown",
   "id": "0edef4dd-e895-4124-89f5-c6b5fd6b273c",
   "metadata": {},
   "source": [
    "5. Create a program that checks if a year is a leap year or not."
   ]
  },
  {
   "cell_type": "code",
   "execution_count": 6,
   "id": "bff30d0c-3674-40d0-bb72-b6e0f1fe67e0",
   "metadata": {},
   "outputs": [
    {
     "name": "stdin",
     "output_type": "stream",
     "text": [
      " 2026\n"
     ]
    },
    {
     "name": "stdout",
     "output_type": "stream",
     "text": [
      "2026 is not a leap year\n"
     ]
    }
   ],
   "source": [
    "year = int(input())\n",
    "if (year % 400 == 0) and (year % 100 == 0):\n",
    "    print(\"{0} is a leap year\".format(year))\n",
    "elif (year % 4 ==0) and (year % 100 != 0):\n",
    "    print(\"{0} is a leap year\".format(year))\n",
    "else:\n",
    "    print(\"{0} is not a leap year\".format(year))"
   ]
  },
  {
   "cell_type": "markdown",
   "id": "7d6b60a1-b18e-4788-b1fc-4fb0579f097e",
   "metadata": {},
   "source": [
    "6. Write a program to classify a triangle based on its sides' lengths."
   ]
  },
  {
   "cell_type": "code",
   "execution_count": 1,
   "id": "968b10e1-ae0d-431f-b84c-c7a704bec373",
   "metadata": {},
   "outputs": [
    {
     "name": "stdin",
     "output_type": "stream",
     "text": [
      "Enter the first angle in degrees:  45\n",
      "Enter the second angle in degrees:  45\n",
      "Enter the third angle in degrees:  90\n"
     ]
    },
    {
     "name": "stdout",
     "output_type": "stream",
     "text": [
      "This is an isosceles triangle.\n"
     ]
    }
   ],
   "source": [
    "angle1 = float(input(\"Enter the first angle in degrees: \"))\n",
    "angle2 = float(input(\"Enter the second angle in degrees: \"))\n",
    "angle3 = float(input(\"Enter the third angle in degrees: \"))\n",
    "angle_sum = angle1 + angle2 + angle3\n",
    "if angle_sum != 180:\n",
    "    print(\"This is not a valid triangle.\")\n",
    "else:\n",
    "    if angle1 == angle2 == angle3:\n",
    "        print(\"This is an equilateral triangle.\")\n",
    "    elif angle1 == angle2 or angle1 == angle3 or angle2 == angle3:\n",
    "        print(\"This is an isosceles triangle.\")\n",
    "    else:\n",
    "        print(\"This is a scalene triangle.\")"
   ]
  },
  {
   "cell_type": "markdown",
   "id": "dd2beaf1-a129-4bd9-9650-2f9667282b3f",
   "metadata": {},
   "source": [
    "7. Build a program that determines the largest of three given numbers."
   ]
  },
  {
   "cell_type": "code",
   "execution_count": 2,
   "id": "65331b21-ea43-4d20-97f9-4697ec6c7d5e",
   "metadata": {},
   "outputs": [
    {
     "name": "stdin",
     "output_type": "stream",
     "text": [
      "first number:  59763284\n",
      "second number:  155478963\n",
      "third number:  14478258\n"
     ]
    },
    {
     "name": "stdout",
     "output_type": "stream",
     "text": [
      "The largest number among 59763284.0 , 155478963.0 , and 14478258.0 is 155478963.0\n"
     ]
    }
   ],
   "source": [
    "num1 = float(input(\"first number: \"))\n",
    "num2 = float(input(\"second number: \"))\n",
    "num3 = float(input(\"third number: \"))\n",
    "if num1 >= num2:\n",
    "    if num1 >= num3:\n",
    "        largest = num1\n",
    "    else:\n",
    "        largest = num3\n",
    "else:\n",
    "    if num2 >= num3:\n",
    "        largest = num2\n",
    "    else:\n",
    "        largest = num3\n",
    "print(\"The largest number among\", num1, \",\", num2, \", and\", num3, \"is\", largest)"
   ]
  },
  {
   "cell_type": "markdown",
   "id": "f2b47432-29cf-466e-a647-9bd603d71d5c",
   "metadata": {},
   "source": [
    "8. Develop a program that checks whether a character is a vowel or a consonant."
   ]
  },
  {
   "cell_type": "code",
   "execution_count": 3,
   "id": "c923e0a1-1e7c-472a-b16d-08840481097b",
   "metadata": {},
   "outputs": [
    {
     "name": "stdin",
     "output_type": "stream",
     "text": [
      "Enter a character:  l\n"
     ]
    },
    {
     "name": "stdout",
     "output_type": "stream",
     "text": [
      "l is a consonant.\n"
     ]
    }
   ],
   "source": [
    "char = input(\"Enter a character: \")\n",
    "if len(char) == 1:\n",
    "    char = char.lower()\n",
    "    if char.isalpha():\n",
    "        if char in ('a', 'e', 'i', 'o', 'u'):\n",
    "            print(f\"{char} is a vowel.\")\n",
    "        else:\n",
    "            print(f\"{char} is a consonant.\")\n",
    "    else:\n",
    "        print(\"Please enter an alphabetic character.\")\n",
    "else:\n",
    "    print(\"Please enter a single character.\")"
   ]
  },
  {
   "cell_type": "markdown",
   "id": "42bd5d84-3771-4681-bf20-ac966cdfdf9e",
   "metadata": {},
   "source": [
    "9. Create a program to calculate the total cost of a shopping cart based on discounts."
   ]
  },
  {
   "cell_type": "code",
   "execution_count": 5,
   "id": "d22666b0-8f9d-4cbe-b22a-8c45f1990d31",
   "metadata": {},
   "outputs": [
    {
     "name": "stdin",
     "output_type": "stream",
     "text": [
      "Enter the purchase amount: Rs 1234\n"
     ]
    },
    {
     "name": "stdout",
     "output_type": "stream",
     "text": [
      "Discounted Price: Rs839.12\n"
     ]
    }
   ],
   "source": [
    "purchase_amount = float(input(\"Enter the purchase amount: Rs\"))\n",
    "discount_rate_10 = 0.12  \n",
    "discount_rate_20 = 0.22  \n",
    "discount_rate_30 = 0.32  \n",
    "final_price = 0\n",
    "if purchase_amount >= 1000:\n",
    "    final_price = purchase_amount - (purchase_amount * discount_rate_30)\n",
    "elif purchase_amount >= 500:\n",
    "    final_price = purchase_amount - (purchase_amount * discount_rate_20)\n",
    "elif purchase_amount >= 200:\n",
    "    final_price = purchase_amount - (purchase_amount * discount_rate_10)\n",
    "else:\n",
    "    final_price = purchase_amount\n",
    "print(f\"Discounted Price: Rs{final_price:.2f}\")"
   ]
  },
  {
   "cell_type": "markdown",
   "id": "bb024c53-cb62-47ae-9856-2e8c6283b92b",
   "metadata": {},
   "source": [
    "10. Write a program that checks if a given number is even or odd."
   ]
  },
  {
   "cell_type": "code",
   "execution_count": 6,
   "id": "dbed2d34-bc9d-4938-a1a8-e15d11a6f410",
   "metadata": {},
   "outputs": [],
   "source": [
    "def odd_even(n):\n",
    "    if n%2==0:\n",
    "        print(f\"{n} is even number.\")\n",
    "    else:\n",
    "        print(f\"{n} is odd number.\")\n",
    "    "
   ]
  },
  {
   "cell_type": "code",
   "execution_count": 7,
   "id": "254345f9-003c-4501-8e1f-bbd54519e18f",
   "metadata": {},
   "outputs": [
    {
     "name": "stdout",
     "output_type": "stream",
     "text": [
      "57869327 is odd number.\n"
     ]
    }
   ],
   "source": [
    "odd_even(57869327)\n"
   ]
  },
  {
   "cell_type": "markdown",
   "id": "4e054c9a-0d05-4f78-b319-8365b9e77723",
   "metadata": {},
   "source": [
    "11. Write a program that calculates the roots of a quadratic equation ."
   ]
  },
  {
   "cell_type": "code",
   "execution_count": 1,
   "id": "492e5505-b00e-431d-b4d4-031962d70f76",
   "metadata": {},
   "outputs": [
    {
     "name": "stdin",
     "output_type": "stream",
     "text": [
      "Enter coefficient a:  124\n",
      "Enter coefficient b:  785\n",
      "Enter coefficient c:  32\n"
     ]
    },
    {
     "name": "stdout",
     "output_type": "stream",
     "text": [
      "Root 1: -0.041030257028001324\n",
      "Root 2: -6.289614904262321\n"
     ]
    }
   ],
   "source": [
    "import math\n",
    "a = float(input(\"Enter coefficient a: \"))\n",
    "b = float(input(\"Enter coefficient b: \"))\n",
    "c = float(input(\"Enter coefficient c: \"))\n",
    "discriminant = b**2 - 4*a*c\n",
    "if discriminant > 0:\n",
    "    root1 = (-b + math.sqrt(discriminant)) / (2*a)\n",
    "    root2 = (-b - math.sqrt(discriminant)) / (2*a)\n",
    "    print(f\"Root 1: {root1}\")\n",
    "    print(f\"Root 2: {root2}\")\n",
    "elif discriminant == 0:\n",
    "    root = -b / (2*a)\n",
    "    print(f\"Root: {root}\")\n",
    "else:\n",
    "    real_part = -b / (2*a)\n",
    "    imaginary_part = math.sqrt(abs(discriminant)) / (2*a)\n",
    "    print(f\"Root 1: {real_part} + {imaginary_part}i\")\n",
    "    print(f\"Root 2: {real_part} - {imaginary_part}i\")"
   ]
  },
  {
   "cell_type": "markdown",
   "id": "c01161ef-feb8-4bab-9c67-4d755a859c90",
   "metadata": {},
   "source": [
    "12. Create a program that determines the day of the week based on the day number (1-7)."
   ]
  },
  {
   "cell_type": "code",
   "execution_count": 2,
   "id": "eaa685f3-e6cc-4b18-a7b9-63d5c8b27da9",
   "metadata": {},
   "outputs": [
    {
     "name": "stdin",
     "output_type": "stream",
     "text": [
      "Enter a number (1 for Monday, 2 for Tuesday, etc.):  4\n"
     ]
    },
    {
     "name": "stdout",
     "output_type": "stream",
     "text": [
      "The day of the week corresponding to 4 is Thursday.\n"
     ]
    }
   ],
   "source": [
    "day_number = int(input(\"Enter a number (1 for Monday, 2 for Tuesday, etc.): \"))\n",
    "if day_number == 1:\n",
    "    day = \"Monday\"\n",
    "elif day_number == 2:\n",
    "    day = \"Tuesday\"\n",
    "elif day_number == 3:\n",
    "    day = \"Wednesday\"\n",
    "elif day_number == 4:\n",
    "    day = \"Thursday\"\n",
    "elif day_number == 5:\n",
    "    day = \"Friday\"\n",
    "elif day_number == 6:\n",
    "    day = \"Saturday\"\n",
    "elif day_number == 7:\n",
    "    day = \"Sunday\"\n",
    "else:\n",
    "    day = \"Invalid input\"\n",
    "print(f\"The day of the week corresponding to {day_number} is {day}.\")"
   ]
  },
  {
   "cell_type": "code",
   "execution_count": 4,
   "id": "f03a093b-42cd-460a-9b2f-12a6d2dfdd40",
   "metadata": {},
   "outputs": [
    {
     "name": "stdin",
     "output_type": "stream",
     "text": [
      "Enter a number:  14\n"
     ]
    }
   ],
   "source": [
    "def factorial(n):\n",
    "    if n == 0:\n",
    "        return 1\n",
    "    else:\n",
    "        return n * factorial(n - 1)\n",
    "num = int(input(\"Enter a number: \"))\n",
    "\n"
   ]
  },
  {
   "cell_type": "code",
   "execution_count": 5,
   "id": "27e72254-9cf9-42e5-8e73-8f9f4783554c",
   "metadata": {},
   "outputs": [
    {
     "data": {
      "text/plain": [
       "87178291200"
      ]
     },
     "execution_count": 5,
     "metadata": {},
     "output_type": "execute_result"
    }
   ],
   "source": [
    "factorial(num)"
   ]
  },
  {
   "cell_type": "markdown",
   "id": "09bedf3b-14c6-407a-8948-c599bb53cef8",
   "metadata": {},
   "source": [
    "14. Write a program to find the largest among three numbers without using the `max()` function."
   ]
  },
  {
   "cell_type": "code",
   "execution_count": 6,
   "id": "ec611d84-8e9e-463e-8ff8-d3f202b72194",
   "metadata": {},
   "outputs": [
    {
     "name": "stdin",
     "output_type": "stream",
     "text": [
      "first number:  123\n",
      "second number:  123\n",
      "third number:  12\n"
     ]
    },
    {
     "name": "stdout",
     "output_type": "stream",
     "text": [
      "The largest number among 123.0 , 123.0 , and 12.0 is 123.0\n"
     ]
    }
   ],
   "source": [
    "num1 = float(input(\"first number: \"))\n",
    "num2 = float(input(\"second number: \"))\n",
    "num3 = float(input(\"third number: \"))\n",
    "if num1 >= num2:\n",
    "    if num1 >= num3:\n",
    "        largest = num1\n",
    "    else:\n",
    "        largest = num3\n",
    "else:\n",
    "    if num2 >= num3:\n",
    "        largest = num2\n",
    "    else:\n",
    "        largest = num3\n",
    "print(\"The largest number among\", num1, \",\", num2, \", and\", num3, \"is\", largest)"
   ]
  },
  {
   "cell_type": "markdown",
   "id": "eca1e1a2-cbea-41a2-b395-7c6e00f4fddb",
   "metadata": {},
   "source": [
    "15. Create a program that simulates a basic ATM transaction menu."
   ]
  },
  {
   "cell_type": "code",
   "execution_count": 8,
   "id": "3b927d25-d8f4-47a4-a2d2-17e448c65c1b",
   "metadata": {},
   "outputs": [
    {
     "name": "stdout",
     "output_type": "stream",
     "text": [
      "\n",
      "ATM Menu:\n",
      "1. Display Balance\n",
      "2. Deposit Money\n",
      "3. Withdraw Money\n",
      "4. Exit\n"
     ]
    },
    {
     "name": "stdin",
     "output_type": "stream",
     "text": [
      "Enter your choice (1/2/3/4):  1\n"
     ]
    },
    {
     "name": "stdout",
     "output_type": "stream",
     "text": [
      "Your account balance is $1000.00\n",
      "\n",
      "ATM Menu:\n",
      "1. Display Balance\n",
      "2. Deposit Money\n",
      "3. Withdraw Money\n",
      "4. Exit\n"
     ]
    },
    {
     "name": "stdin",
     "output_type": "stream",
     "text": [
      "Enter your choice (1/2/3/4):  2\n",
      "Enter the amount you want to deposit: $ 58\n"
     ]
    },
    {
     "name": "stdout",
     "output_type": "stream",
     "text": [
      "$58.00 has been deposited into your account.\n",
      "\n",
      "ATM Menu:\n",
      "1. Display Balance\n",
      "2. Deposit Money\n",
      "3. Withdraw Money\n",
      "4. Exit\n"
     ]
    },
    {
     "name": "stdin",
     "output_type": "stream",
     "text": [
      "Enter your choice (1/2/3/4):  7\n"
     ]
    },
    {
     "name": "stdout",
     "output_type": "stream",
     "text": [
      "Invalid choice. Please select a valid option (1/2/3/4).\n",
      "\n",
      "ATM Menu:\n",
      "1. Display Balance\n",
      "2. Deposit Money\n",
      "3. Withdraw Money\n",
      "4. Exit\n"
     ]
    },
    {
     "name": "stdin",
     "output_type": "stream",
     "text": [
      "Enter your choice (1/2/3/4):  100000\n"
     ]
    },
    {
     "name": "stdout",
     "output_type": "stream",
     "text": [
      "Invalid choice. Please select a valid option (1/2/3/4).\n",
      "\n",
      "ATM Menu:\n",
      "1. Display Balance\n",
      "2. Deposit Money\n",
      "3. Withdraw Money\n",
      "4. Exit\n"
     ]
    },
    {
     "name": "stdin",
     "output_type": "stream",
     "text": [
      "Enter your choice (1/2/3/4):  4\n"
     ]
    },
    {
     "name": "stdout",
     "output_type": "stream",
     "text": [
      "Thank you for using the ATM. Have a nice day!\n"
     ]
    }
   ],
   "source": [
    "account_balance = 1000\n",
    "def display_balance():\n",
    "    print(f\"Your account balance is ${account_balance:.2f}\")\n",
    "def deposit():\n",
    "    global account_balance\n",
    "    amount = float(input(\"Enter the amount you want to deposit: $\"))\n",
    "    if amount > 0:\n",
    "        account_balance += amount\n",
    "        print(f\"${amount:.2f} has been deposited into your account.\")\n",
    "    else:\n",
    "        print(\"Invalid amount. Please enter a positive amount.\")\n",
    "def withdraw():\n",
    "    global account_balance\n",
    "    amount = float(input(\"Enter the amount you want to withdraw: $\"))\n",
    "    if amount > 0 and amount <= account_balance:\n",
    "        account_balance -= amount\n",
    "        print(f\"${amount:.2f} has been withdrawn from your account.\")\n",
    "    elif amount <= 0:\n",
    "        print(\"Invalid amount. Please enter a positive amount.\")\n",
    "    else:\n",
    "        print(\"Insufficient funds. Your account balance is not enough to cover this withdrawal.\")\n",
    "while True:\n",
    "    print(\"\\nATM Menu:\")\n",
    "    print(\"1. Display Balance\")\n",
    "    print(\"2. Deposit Money\")\n",
    "    print(\"3. Withdraw Money\")\n",
    "    print(\"4. Exit\")\n",
    "    \n",
    "    choice = input(\"Enter your choice (1/2/3/4): \")\n",
    "    \n",
    "    if choice == '1':\n",
    "        display_balance()\n",
    "    elif choice == '2':\n",
    "        deposit()\n",
    "    elif choice == '3':\n",
    "        withdraw()\n",
    "    elif choice == '4':\n",
    "        print(\"Thank you for using the ATM. Have a nice day!\")\n",
    "        break\n",
    "    else:\n",
    "        print(\"Invalid choice. Please select a valid option (1/2/3/4).\")\n"
   ]
  },
  {
   "cell_type": "markdown",
   "id": "8c16f965-a1a5-447e-b389-db9aedc2d1ae",
   "metadata": {},
   "source": [
    "16. Build a program that checks if a given string is a palindrome or not."
   ]
  },
  {
   "cell_type": "code",
   "execution_count": 4,
   "id": "045a9da2-8edf-46f8-9d5e-90cebe372da6",
   "metadata": {},
   "outputs": [
    {
     "name": "stdin",
     "output_type": "stream",
     "text": [
      "Enter a string madam\n"
     ]
    },
    {
     "name": "stdout",
     "output_type": "stream",
     "text": [
      "Paindrome\n"
     ]
    }
   ],
   "source": [
    "def palin(n):\n",
    "    l=n[::-1]\n",
    "    if l==n:\n",
    "        print(\"Paindrome\")\n",
    "    else:\n",
    "        print(\"Not a palindrome\")\n",
    "k=input(\"Enter a string\")\n",
    "palin(k)"
   ]
  },
  {
   "cell_type": "markdown",
   "id": "c48f4afe-941e-45da-b6ca-274ebf6dcfec",
   "metadata": {},
   "source": [
    "17. Write a program that calculates the average of a list of numbers, excluding the smallest and largest values."
   ]
  },
  {
   "cell_type": "code",
   "execution_count": 14,
   "id": "addefa7a-e04a-49a4-b619-faa7634c50ea",
   "metadata": {},
   "outputs": [
    {
     "data": {
      "text/plain": [
       "4.5"
      ]
     },
     "execution_count": 14,
     "metadata": {},
     "output_type": "execute_result"
    }
   ],
   "source": [
    "def calculate_average(numbers):\n",
    "    if len(numbers) < 3:\n",
    "        print(\"You need at least 3 numbers to calculate the average excluding extremes.\")\n",
    "        return\n",
    "    sorted_numbers = sorted(numbers)\n",
    "    sorted_numbers = sorted_numbers[1:-1]\n",
    "    average = sum(sorted_numbers) / len(sorted_numbers)\n",
    "\n",
    "    return average\n",
    "l=[1,2,3,4,5,6,7,8,9,0]\n",
    "calculate_average(l)\n",
    "\n",
    "        "
   ]
  },
  {
   "cell_type": "markdown",
   "id": "2ee9cb84-5b29-4792-afdc-3a9acd8948d4",
   "metadata": {},
   "source": [
    "18. Develop a program that converts a given temperature from Celsius to Fahrenheit."
   ]
  },
  {
   "cell_type": "code",
   "execution_count": 15,
   "id": "5a86bccc-2baa-4680-86ee-703517680619",
   "metadata": {},
   "outputs": [
    {
     "data": {
      "text/plain": [
       "73.4"
      ]
     },
     "execution_count": 15,
     "metadata": {},
     "output_type": "execute_result"
    }
   ],
   "source": [
    "def celsius_to_fahrenheit(celsius):\n",
    "    fahrenheit = (celsius * 9/5) + 32\n",
    "    return fahrenheit\n",
    "celsius_to_fahrenheit(23)\n",
    "\n"
   ]
  },
  {
   "cell_type": "markdown",
   "id": "e16ab0af-8bf7-4719-b13f-bd70cd1d7320",
   "metadata": {},
   "source": [
    "19. Create a program that simulates a basic calculator for addition, subtraction, multiplication, and division."
   ]
  },
  {
   "cell_type": "code",
   "execution_count": 16,
   "id": "bdc2bd98-7313-46f5-aa00-1b19d8a8bec3",
   "metadata": {},
   "outputs": [
    {
     "name": "stdout",
     "output_type": "stream",
     "text": [
      "Options:\n",
      "Enter 'add' for addition\n",
      "Enter 'subtract' for subtraction\n",
      "Enter 'multiply' for multiplication\n",
      "Enter 'divide' for division\n",
      "Enter 'quit' to end the program\n"
     ]
    },
    {
     "name": "stdin",
     "output_type": "stream",
     "text": [
      ":  add\n",
      "Enter first number:  25896314789653214789\n",
      "Enter second number:  147856932541789\n"
     ]
    },
    {
     "name": "stdout",
     "output_type": "stream",
     "text": [
      "Result: 2.5896462646585754e+19\n",
      "Options:\n",
      "Enter 'add' for addition\n",
      "Enter 'subtract' for subtraction\n",
      "Enter 'multiply' for multiplication\n",
      "Enter 'divide' for division\n",
      "Enter 'quit' to end the program\n"
     ]
    },
    {
     "name": "stdin",
     "output_type": "stream",
     "text": [
      ":  quit\n"
     ]
    }
   ],
   "source": [
    "def add(x, y):\n",
    "    return x + y\n",
    "\n",
    "def subtract(x, y):\n",
    "    return x - y\n",
    "\n",
    "def multiply(x, y):\n",
    "    return x * y\n",
    "\n",
    "def divide(x, y):\n",
    "    if y == 0:\n",
    "        return \"Cannot divide by zero\"\n",
    "    return x / y\n",
    "\n",
    "while True:\n",
    "    print(\"Options:\")\n",
    "    print(\"Enter 'add' for addition\")\n",
    "    print(\"Enter 'subtract' for subtraction\")\n",
    "    print(\"Enter 'multiply' for multiplication\")\n",
    "    print(\"Enter 'divide' for division\")\n",
    "    print(\"Enter 'quit' to end the program\")\n",
    "\n",
    "    user_input = input(\": \")\n",
    "\n",
    "    if user_input == \"quit\":\n",
    "        break\n",
    "    elif user_input in (\"add\", \"subtract\", \"multiply\", \"divide\"):\n",
    "        num1 = float(input(\"Enter first number: \"))\n",
    "        num2 = float(input(\"Enter second number: \"))\n",
    "\n",
    "        if user_input == \"add\":\n",
    "            print(f\"Result: {add(num1, num2)}\")\n",
    "        elif user_input == \"subtract\":\n",
    "            print(f\"Result: {subtract(num1, num2)}\")\n",
    "        elif user_input == \"multiply\":\n",
    "            print(f\"Result: {multiply(num1, num2)}\")\n",
    "        elif user_input == \"divide\":\n",
    "            result = divide(num1, num2)\n",
    "            if result == \"Cannot divide by zero\":\n",
    "                print(result)\n",
    "            else:\n",
    "                print(f\"Result: {result}\")\n",
    "        else:\n",
    "            print(\"Invalid input\")\n",
    "    else:\n",
    "        print(\"Invalid input\")\n"
   ]
  },
  {
   "cell_type": "code",
   "execution_count": null,
   "id": "670772bc-7e60-4398-9296-f51f990f89eb",
   "metadata": {},
   "outputs": [],
   "source": [
    "20. Write a program that determines the roots of a cubic equation using the Cardano formula."
   ]
  },
  {
   "cell_type": "code",
   "execution_count": 17,
   "id": "8fb6ee99-e058-4e71-a7c9-1415d01a7a3f",
   "metadata": {},
   "outputs": [
    {
     "name": "stdin",
     "output_type": "stream",
     "text": [
      "Enter coefficient a:  14\n",
      "Enter coefficient b:  58\n",
      "Enter coefficient c:  36\n",
      "Enter coefficient d:  78\n"
     ]
    },
    {
     "name": "stdout",
     "output_type": "stream",
     "text": [
      "Roots of the cubic equation:\n",
      "Root 1: -0.146022+2.138962j\n",
      "Root 2: -0.964434-1.666452j\n",
      "Root 3: -3.032401-0.472510j\n"
     ]
    }
   ],
   "source": [
    "import math\n",
    "\n",
    "def find_cubic_roots(a, b, c, d):\n",
    "    p = c/a - (b**2)/(3*a**2)\n",
    "    q = (2*b**3)/(27*a**3) - (b*c)/(3*a**2) + d/a\n",
    "    discriminant = (q**2)/4 + (p**3)/27\n",
    "    if discriminant > 0:\n",
    "        u = (-q/2 + math.sqrt(discriminant))**(1/3)\n",
    "        v = (-q/2 - math.sqrt(discriminant))**(1/3)\n",
    "        real_root = u + v - b/(3*a)\n",
    "        complex_root1 = complex(-(u + v)/2 - b/(3*a), (u - v)*math.sqrt(3)/2)\n",
    "        complex_root2 = complex(-(u + v)/2 - b/(3*a), -(u - v)*math.sqrt(3)/2)\n",
    "        return [real_root, complex_root1, complex_root2]\n",
    "    \n",
    "    elif discriminant == 0:\n",
    "        u = (-q/2)**(1/3)\n",
    "        real_root1 = 2*u - b/(3*a)\n",
    "        real_root2 = -u - b/(3*a)\n",
    "        return [real_root1, real_root2, real_root2]\n",
    "    \n",
    "    else:\n",
    "        phi = math.acos(-q/2 * math.sqrt(-27/(p**3)))\n",
    "        root1 = 2 * math.sqrt(-p/3) * math.cos(phi/3) - b/(3*a)\n",
    "        root2 = 2 * math.sqrt(-p/3) * math.cos((phi + 2*math.pi)/3) - b/(3*a)\n",
    "        root3 = 2 * math.sqrt(-p/3) * math.cos((phi + 4*math.pi)/3) - b/(3*a)\n",
    "        return [root1, root2, root3]\n",
    "a = float(input(\"Enter coefficient a: \"))\n",
    "b = float(input(\"Enter coefficient b: \"))\n",
    "c = float(input(\"Enter coefficient c: \"))\n",
    "d = float(input(\"Enter coefficient d: \"))\n",
    "roots = find_cubic_roots(a, b, c, d)\n",
    "print(\"Roots of the cubic equation:\")\n",
    "for i, root in enumerate(roots):\n",
    "    print(f\"Root {i+1}: {root:.6f}\")\n"
   ]
  },
  {
   "cell_type": "markdown",
   "id": "ea5fbef9-185c-470b-b232-b52e9a72184d",
   "metadata": {},
   "source": [
    "21. Create a program that calculates the income tax based on the user's income and tax brackets."
   ]
  },
  {
   "cell_type": "code",
   "execution_count": 1,
   "id": "e9619673-8407-4b7f-888e-0e4b3d035930",
   "metadata": {},
   "outputs": [
    {
     "name": "stdin",
     "output_type": "stream",
     "text": [
      "Enter your income:  10000\n"
     ]
    },
    {
     "name": "stdout",
     "output_type": "stream",
     "text": [
      "Your income tax is: $1000.00\n"
     ]
    }
   ],
   "source": [
    "def calculate_income_tax(income):\n",
    "    tax_brackets = [\n",
    "        (0, 10000, 0.10),\n",
    "        (10001, 40000, 0.20),\n",
    "        (40001, 80000, 0.30),\n",
    "        (80001, float('inf'), 0.40)\n",
    "    ]\n",
    "\n",
    "    tax = 0\n",
    "    remaining_income = income\n",
    "    for bracket in tax_brackets:\n",
    "        min_income, max_income, tax_rate = bracket\n",
    "        if remaining_income <= 0:\n",
    "            break\n",
    "        if remaining_income <= max_income:\n",
    "            tax += remaining_income * tax_rate\n",
    "            break\n",
    "        else:\n",
    "            taxable_income = max_income - min_income\n",
    "            tax += taxable_income * tax_rate\n",
    "            remaining_income -= taxable_income\n",
    "\n",
    "    return tax\n",
    "\n",
    "try:\n",
    "    income = float(input(\"Enter your income: \"))\n",
    "    if income < 0:\n",
    "        print(\"Income cannot be negative.\")\n",
    "    else:\n",
    "        income_tax = calculate_income_tax(income)\n",
    "        print(f\"Your income tax is: ${income_tax:.2f}\")\n",
    "except ValueError:\n",
    "    print(\"Invalid input. Please enter a valid income.\")\n"
   ]
  },
  {
   "cell_type": "markdown",
   "id": "9dedf9b2-6f76-44f8-91a4-bd210a1af292",
   "metadata": {},
   "source": [
    "22. Write a program that simulates a rock-paper-scissors game against the computer."
   ]
  },
  {
   "cell_type": "code",
   "execution_count": 3,
   "id": "25f9c301-71f5-44ae-b3ce-4a117227d682",
   "metadata": {},
   "outputs": [
    {
     "name": "stdout",
     "output_type": "stream",
     "text": [
      "Welcome to Rock-Paper-Scissors!\n"
     ]
    },
    {
     "name": "stdin",
     "output_type": "stream",
     "text": [
      "Enter your choice (rock, paper, or scissors):  rock\n"
     ]
    },
    {
     "name": "stdout",
     "output_type": "stream",
     "text": [
      "You chose rock.\n",
      "Computer chose rock.\n",
      "It's a tie!\n"
     ]
    },
    {
     "name": "stdin",
     "output_type": "stream",
     "text": [
      "Do you want to play again? (yes/no):  yes\n",
      "Enter your choice (rock, paper, or scissors):  paper\n"
     ]
    },
    {
     "name": "stdout",
     "output_type": "stream",
     "text": [
      "You chose paper.\n",
      "Computer chose scissors.\n",
      "Computer wins!\n"
     ]
    },
    {
     "name": "stdin",
     "output_type": "stream",
     "text": [
      "Do you want to play again? (yes/no):  no\n"
     ]
    },
    {
     "name": "stdout",
     "output_type": "stream",
     "text": [
      "Thanks for playing!\n"
     ]
    }
   ],
   "source": [
    "import random\n",
    "def get_user_choice():\n",
    "    while True:\n",
    "        user_choice = input(\"Enter your choice (rock, paper, or scissors): \").lower()\n",
    "        if user_choice in ['rock', 'paper', 'scissors']:\n",
    "            return user_choice\n",
    "        else:\n",
    "            print(\"Invalid choice. Please choose rock, paper, or scissors.\")\n",
    "def get_computer_choice():\n",
    "    choices = ['rock', 'paper', 'scissors']\n",
    "    return random.choice(choices)\n",
    "def determine_winner(user_choice, computer_choice):\n",
    "    if user_choice == computer_choice:\n",
    "        return \"It's a tie!\"\n",
    "    elif (user_choice == 'rock' and computer_choice == 'scissors') or \\\n",
    "         (user_choice == 'paper' and computer_choice == 'rock') or \\\n",
    "         (user_choice == 'scissors' and computer_choice == 'paper'):\n",
    "        return \"You win!\"\n",
    "    else:\n",
    "        return \"Computer wins!\"\n",
    "def main():\n",
    "    print(\"Welcome to Rock-Paper-Scissors!\")\n",
    "    while True:\n",
    "        user_choice = get_user_choice()\n",
    "        computer_choice = get_computer_choice()\n",
    "        print(f\"You chose {user_choice}.\")\n",
    "        print(f\"Computer chose {computer_choice}.\")\n",
    "        result = determine_winner(user_choice, computer_choice)\n",
    "        print(result)\n",
    "\n",
    "        play_again = input(\"Do you want to play again? (yes/no): \").lower()\n",
    "        if play_again != 'yes':\n",
    "            print(\"Thanks for playing!\")\n",
    "            break\n",
    "if __name__ == \"__main__\":\n",
    "    main()\n"
   ]
  },
  {
   "cell_type": "markdown",
   "id": "ef7e5aac-1e8d-4e13-b228-33911629cab9",
   "metadata": {},
   "source": [
    "23. Develop a program that generates a random password based on user preferences (length, complexity)."
   ]
  },
  {
   "cell_type": "code",
   "execution_count": 8,
   "id": "c958cdd1-2e25-4dc3-8c92-1629d8591550",
   "metadata": {},
   "outputs": [
    {
     "data": {
      "text/plain": [
       "'hmVFJMLCUJUXZi'"
      ]
     },
     "execution_count": 8,
     "metadata": {},
     "output_type": "execute_result"
    }
   ],
   "source": [
    "import random\n",
    "import string\n",
    "\n",
    "def generate_password(length, complexity):\n",
    "    if complexity == \"low\":\n",
    "        characters = string.ascii_letters\n",
    "    elif complexity == \"medium\":\n",
    "        characters = string.ascii_letters + string.digits\n",
    "    elif complexity == \"high\":\n",
    "        characters = string.ascii_letters + string.digits + string.punctuation\n",
    "    else:\n",
    "        print(\"Invalid complexity level. Please choose 'low', 'medium', or 'high'.\")\n",
    "        return None\n",
    "\n",
    "    password = ''.join(random.choice(characters) for i in range(length))\n",
    "    return password\n",
    "\n",
    "generate_password(14,\"low\")\n",
    "\n"
   ]
  },
  {
   "cell_type": "markdown",
   "id": "42f4eb36-c965-48fc-aaa6-06dfa574c9b9",
   "metadata": {},
   "source": [
    "24. Create a program that implements a simple text-based adventure game with branching scenarios."
   ]
  },
  {
   "cell_type": "code",
   "execution_count": 1,
   "id": "1befb859-07a6-47ea-915c-16d9b78e82af",
   "metadata": {},
   "outputs": [
    {
     "name": "stdout",
     "output_type": "stream",
     "text": [
      "Welcome to Text-Based Game!\n",
      "You find yourself standing at a fork in the road.\n",
      "You can either go left or right.\n"
     ]
    },
    {
     "name": "stdin",
     "output_type": "stream",
     "text": [
      "Which way do you want to go? (left/right):  right\n"
     ]
    },
    {
     "name": "stdout",
     "output_type": "stream",
     "text": [
      "You chose to go right.\n",
      "You encounter a ferocious dragon!\n",
      "You have no way to fight it.\n",
      "You become the dragon's dinner. Game over!\n"
     ]
    },
    {
     "name": "stdin",
     "output_type": "stream",
     "text": [
      "Do you want to play again? (yes/no):  no\n"
     ]
    },
    {
     "name": "stdout",
     "output_type": "stream",
     "text": [
      "Thanks for playing!\n"
     ]
    }
   ],
   "source": [
    "import time\n",
    "\n",
    "def introduction():\n",
    "    print(\"Welcome to Text-Based Game!\")\n",
    "    print(\"You find yourself standing at a fork in the road.\")\n",
    "    print(\"You can either go left or right.\")\n",
    "    time.sleep(1)\n",
    "\n",
    "def choose_direction():\n",
    "    while True:\n",
    "        choice = input(\"Which way do you want to go? (left/right): \").lower()\n",
    "        if choice == \"left\":\n",
    "            return \"left\"\n",
    "        elif choice == \"right\":\n",
    "            return \"right\"\n",
    "        else:\n",
    "            print(\"Invalid choice. Please enter 'left' or 'right'.\")\n",
    "\n",
    "def left_scenario():\n",
    "    print(\"You chose to go left.\")\n",
    "    print(\"You find a hidden treasure chest!\")\n",
    "    print(\"Congratulations, you win!\")\n",
    "    play_again()\n",
    "\n",
    "def right_scenario():\n",
    "    print(\"You chose to go right.\")\n",
    "    print(\"You encounter a ferocious dragon!\")\n",
    "    print(\"You have no way to fight it.\")\n",
    "    time.sleep(1)\n",
    "    print(\"You become the dragon's dinner. Game over!\")\n",
    "    play_again()\n",
    "\n",
    "def play_again():\n",
    "    while True:\n",
    "        choice = input(\"Do you want to play again? (yes/no): \").lower()\n",
    "        if choice == \"yes\":\n",
    "            game()\n",
    "        elif choice == \"no\":\n",
    "            print(\"Thanks for playing!\")\n",
    "            break\n",
    "        else:\n",
    "            print(\"Invalid choice. Please enter 'yes' or 'no'.\")\n",
    "\n",
    "def game():\n",
    "    introduction()\n",
    "    direction = choose_direction()\n",
    "    \n",
    "    if direction == \"left\":\n",
    "        left_scenario()\n",
    "    else:\n",
    "        right_scenario()\n",
    "\n",
    "if __name__ == \"__main__\":\n",
    "    game()\n"
   ]
  },
  {
   "cell_type": "markdown",
   "id": "081b129a-67a1-4997-99b0-4ebf9fad1276",
   "metadata": {},
   "source": [
    "25. Build a program that solves a linear equation for x, considering different cases."
   ]
  },
  {
   "cell_type": "code",
   "execution_count": 2,
   "id": "ebd4398a-a498-42cb-971e-15ca273a88b8",
   "metadata": {},
   "outputs": [
    {
     "name": "stdout",
     "output_type": "stream",
     "text": [
      "Linear Equation Solver\n",
      "Ax + B = 0\n"
     ]
    },
    {
     "name": "stdin",
     "output_type": "stream",
     "text": [
      "Enter the coefficient A:  0.2\n",
      "Enter the constant B:  0.1\n"
     ]
    },
    {
     "name": "stdout",
     "output_type": "stream",
     "text": [
      "The solution is x = -0.50\n"
     ]
    }
   ],
   "source": [
    "def solve_linear_equation(a, b):\n",
    "    if a == 0:\n",
    "        if b == 0:\n",
    "            return \"Infinite solutions (0x = 0)\"\n",
    "        else:\n",
    "            return \"No solution (0x = b, where b is not 0)\"\n",
    "    else:\n",
    "        x = -b / a\n",
    "        return f\"The solution is x = {x:.2f}\"\n",
    "\n",
    "def main():\n",
    "    print(\"Linear Equation Solver\")\n",
    "    print(\"Ax + B = 0\")\n",
    "    try:\n",
    "        a = float(input(\"Enter the coefficient A: \"))\n",
    "        b = float(input(\"Enter the constant B: \"))\n",
    "        result = solve_linear_equation(a, b)\n",
    "        print(result)\n",
    "    except ValueError:\n",
    "        print(\"Invalid input. Please enter valid numeric coefficients.\")\n",
    "\n",
    "if __name__ == \"__main__\":\n",
    "    main()\n"
   ]
  },
  {
   "cell_type": "markdown",
   "id": "0d734b19-4f7a-491e-925f-619da9f35c16",
   "metadata": {},
   "source": [
    "26.Write a program that simulates a basic quiz game with multiple-choice questions and scoring."
   ]
  },
  {
   "cell_type": "code",
   "execution_count": 2,
   "id": "7835baf6-e89d-4ac8-87d6-70460cdb6cb4",
   "metadata": {},
   "outputs": [
    {
     "name": "stdout",
     "output_type": "stream",
     "text": [
      "Welcome to the Game!\n",
      "What is the capital of France?\n",
      "1. A) London\n",
      "2. B) Berlin\n",
      "3. C) Paris\n",
      "4. D) Madrid\n"
     ]
    },
    {
     "name": "stdin",
     "output_type": "stream",
     "text": [
      "Enter the number of your answer:  2\n"
     ]
    },
    {
     "name": "stdout",
     "output_type": "stream",
     "text": [
      "Incorrect. The correct answer is option 3 \n",
      "\n",
      "Which planet is known as the Red Planet?\n",
      "1. A) Venus\n",
      "2. B) Mars\n",
      "3. C) Jupiter\n",
      "4. D) Saturn\n"
     ]
    },
    {
     "name": "stdin",
     "output_type": "stream",
     "text": [
      "Enter the number of your answer:  2\n"
     ]
    },
    {
     "name": "stdout",
     "output_type": "stream",
     "text": [
      "Correct!\n",
      "\n",
      "What is the largest mammal in the world?\n",
      "1. A) Elephant\n",
      "2. B) Blue Whale\n",
      "3. C) Giraffe\n",
      "4. D) Lion\n"
     ]
    },
    {
     "name": "stdin",
     "output_type": "stream",
     "text": [
      "Enter the number of your answer:  5\n"
     ]
    },
    {
     "name": "stdout",
     "output_type": "stream",
     "text": [
      "Incorrect. The correct answer is option 2 \n",
      "\n",
      "You scored 1 out of 3.\n"
     ]
    }
   ],
   "source": [
    "class QuizQuestion:\n",
    "    def __init__(self, question, options, correct_answer):\n",
    "        self.question = question\n",
    "        self.options = options\n",
    "        self.correct_answer = correct_answer\n",
    "\n",
    "class QuizGame:\n",
    "    def __init__(self):\n",
    "        self.score = 0\n",
    "        self.questions = []\n",
    "\n",
    "    def add_question(self, question, options, correct_answer):\n",
    "        new_question = QuizQuestion(question, options, correct_answer)\n",
    "        self.questions.append(new_question)\n",
    "\n",
    "    def display_question(self, question_obj):\n",
    "        print(question_obj.question)\n",
    "        for i, option in enumerate(question_obj.options, start=1):\n",
    "            print(f\"{i}. {option}\")\n",
    "        user_choice = input(\"Enter the number of your answer: \")\n",
    "        return int(user_choice)\n",
    "\n",
    "    def play(self):\n",
    "        for question in self.questions:\n",
    "            user_choice = self.display_question(question)\n",
    "            if user_choice == question.correct_answer:\n",
    "                print(\"Correct!\\n\")\n",
    "                self.score += 1\n",
    "            else:\n",
    "                print(\"Incorrect. The correct answer is option\", question.correct_answer, \"\\n\")\n",
    "        print(f\"You scored {self.score} out of {len(self.questions)}.\")\n",
    "\n",
    "if __name__ == \"__main__\":\n",
    "    quiz = QuizGame()\n",
    "    quiz.add_question(\"What is the capital of France?\", [\"A) London\", \"B) Berlin\", \"C) Paris\", \"D) Madrid\"], 3)\n",
    "    quiz.add_question(\"Which planet is known as the Red Planet?\", [\"A) Venus\", \"B) Mars\", \"C) Jupiter\", \"D) Saturn\"], 2)\n",
    "    quiz.add_question(\"What is the largest mammal in the world?\", [\"A) Elephant\", \"B) Blue Whale\", \"C) Giraffe\", \"D) Lion\"], 2)\n",
    "    print(\"Welcome to the Game!\")\n",
    "    quiz.play()\n"
   ]
  },
  {
   "cell_type": "markdown",
   "id": "8f920838-6eeb-469a-a4b6-a2df9530dd55",
   "metadata": {},
   "source": [
    "27. Develop a program that determines whether a given year is a prime number or not."
   ]
  },
  {
   "cell_type": "code",
   "execution_count": 3,
   "id": "8a34f789-930e-48a6-98a9-9dd1d213da04",
   "metadata": {},
   "outputs": [
    {
     "name": "stdin",
     "output_type": "stream",
     "text": [
      "Enter a year to check if it's prime:  345\n"
     ]
    },
    {
     "name": "stdout",
     "output_type": "stream",
     "text": [
      "345 is not a prime year.\n"
     ]
    }
   ],
   "source": [
    "def is_prime(year):\n",
    "    if year <= 1:\n",
    "        return False\n",
    "    if year == 2:\n",
    "        return True\n",
    "    if year % 2 == 0:\n",
    "        return False \n",
    "    for i in range(3, int(year**0.5) + 1, 2):\n",
    "        if year % i == 0:\n",
    "            return False\n",
    "\n",
    "    return True\n",
    "if __name__ == \"__main__\":\n",
    "    year = int(input(\"Enter a year to check if it's prime: \"))\n",
    "    if is_prime(year):\n",
    "        print(f\"{year} is a prime year.\")\n",
    "    else:\n",
    "        print(f\"{year} is not a prime year.\")\n"
   ]
  },
  {
   "cell_type": "markdown",
   "id": "415e3536-b555-4be6-ad43-bfbbbd64bba8",
   "metadata": {},
   "source": [
    "28. Create a program that sorts three numbers in ascending order using conditional statements."
   ]
  },
  {
   "cell_type": "code",
   "execution_count": null,
   "id": "dd867443-8bc9-4905-b7b3-d89dde61c8cc",
   "metadata": {},
   "outputs": [
    {
     "name": "stdin",
     "output_type": "stream",
     "text": [
      "Enter the first number:  3\n",
      "Enter the second number:  4\n",
      "Enter the third number:  4\n"
     ]
    },
    {
     "name": "stdout",
     "output_type": "stream",
     "text": [
      "The numbers in ascending order are: 3 4 4\n"
     ]
    }
   ],
   "source": [
    "num1 = int(input(\"Enter the first number: \"))\n",
    "num2 = int(input(\"Enter the second number: \"))\n",
    "num3 = int(input(\"Enter the third number: \"))\n",
    "min_num = min(num1, num2, num3)\n",
    "max_num = max(num1, num2, num3)\n",
    "middle_num = num1 + num2 + num3 - min_num - max_num\n",
    "print(\"The numbers in ascending order are:\", min_num, middle_num, max_num)\n"
   ]
  },
  {
   "cell_type": "markdown",
   "id": "35ca17b4-77ff-4b28-b567-e46bfcce6a69",
   "metadata": {},
   "source": [
    "29. Build a program that determines the roots of a quartic equation using numerical methods."
   ]
  },
  {
   "cell_type": "code",
   "execution_count": 6,
   "id": "eff1d50a-f755-43da-8471-13237973da06",
   "metadata": {},
   "outputs": [
    {
     "name": "stdin",
     "output_type": "stream",
     "text": [
      "Enter coefficient a:  78.9\n",
      "Enter coefficient b:  88.1\n",
      "Enter coefficient c:  23.1\n",
      "Enter coefficient d:  223.1\n",
      "Enter coefficient e:  23.5\n",
      "Enter an initial guess for the root:  5.0\n"
     ]
    },
    {
     "name": "stdout",
     "output_type": "stream",
     "text": [
      "An approximate root of the quartic equation is -0.10607239258382557\n"
     ]
    }
   ],
   "source": [
    "def quartic_equation(x, a, b, c, d, e):\n",
    "    return a * x**4 + b * x**3 + c * x**2 + d * x + e\n",
    "def quartic_derivative(x, a, b, c, d):\n",
    "    return 4 * a * x**3 + 3 * b * x**2 + 2 * c * x + d\n",
    "def newton_raphson_quartic(a, b, c, d, e, x0, tolerance=1e-6, max_iterations=100):\n",
    "    x = x0\n",
    "    for i in range(max_iterations):\n",
    "        f_x = quartic_equation(x, a, b, c, d, e)\n",
    "        f_prime_x = quartic_derivative(x, a, b, c, d)\n",
    "        \n",
    "        if abs(f_x) < tolerance:\n",
    "            return x\n",
    "        \n",
    "        x = x - f_x / f_prime_x\n",
    "\n",
    "    return None\n",
    "if __name__ == \"__main__\":\n",
    "    a = float(input(\"Enter coefficient a: \"))\n",
    "    b = float(input(\"Enter coefficient b: \"))\n",
    "    c = float(input(\"Enter coefficient c: \"))\n",
    "    d = float(input(\"Enter coefficient d: \"))\n",
    "    e = float(input(\"Enter coefficient e: \"))\n",
    "    x0 = float(input(\"Enter an initial guess for the root: \"))\n",
    "    root = newton_raphson_quartic(a, b, c, d, e, x0)\n",
    "    if root is not None:\n",
    "        print(f\"An approximate root of the quartic equation is {root}\")\n",
    "    else:\n",
    "        print(\"The method did not converge to a root.\")\n"
   ]
  },
  {
   "cell_type": "markdown",
   "id": "2d4d8fa8-89ce-471e-9564-88bcedf03056",
   "metadata": {},
   "source": [
    "30. Write a program that calculates the BMI (Body Mass Index) and provides health recommendations based\n",
    "on the user's input."
   ]
  },
  {
   "cell_type": "code",
   "execution_count": 1,
   "id": "01c3060f-10e2-45d3-ac2d-22a7aa2c12be",
   "metadata": {},
   "outputs": [],
   "source": [
    "def calculate_bmi(weight_kg, height_m):\n",
    "    return weight_kg / (height_m ** 2)\n",
    "def get_bmi_category(bmi):\n",
    "    if bmi < 18.5:\n",
    "        return \"Underweight\"\n",
    "    elif 18.5 <= bmi < 24.9:\n",
    "        return \"Normal Weight\"\n",
    "    elif 25.0 <= bmi < 29.9:\n",
    "        return \"Overweight\"\n",
    "    else:\n",
    "        return \"Obese\"\n",
    "def main():\n",
    "    print(\"BMI Calculator\")\n",
    "    weight_kg = float(input(\"Enter your weight in kilograms: \"))\n",
    "    height_m = float(input(\"Enter your height in meters: \"))\n",
    "\n",
    "    bmi = calculate_bmi(weight_kg, height_m)\n",
    "    bmi_category = get_bmi_category(bmi)\n",
    "\n",
    "    print(f\"Your BMI is: {bmi:.2f}\")\n",
    "    print(f\"You are categorized as: {bmi_category}\")\n",
    "\n",
    "    if bmi_category == \"Underweight\":\n",
    "        print(\"Recommendation: Consider gaining some weight and improving your nutrition.\")\n",
    "    elif bmi_category == \"Normal Weight\":\n",
    "        print(\"Recommendation: Maintain a balanced diet and exercise regularly to stay healthy.\")\n",
    "    elif bmi_category == \"Overweight\":\n",
    "        print(\"Recommendation: Aim to lose some weight through diet and exercise for better health.\")\n",
    "    else:\n",
    "        print(\"Recommendation: It's important to consult with a healthcare professional for obesity management.\")\n",
    "if __name__ == \"__main\":\n",
    "    main()\n"
   ]
  },
  {
   "cell_type": "markdown",
   "id": "76686c5a-010d-4a55-b313-65a5485f31c7",
   "metadata": {},
   "source": [
    "31. Create a program that validates a password based on complexity rules (length, characters, etc.)."
   ]
  },
  {
   "cell_type": "code",
   "execution_count": 2,
   "id": "f1a65d4d-9408-4520-9653-376d67457cb5",
   "metadata": {},
   "outputs": [
    {
     "name": "stdin",
     "output_type": "stream",
     "text": [
      "Enter a password:  dfvds\n"
     ]
    },
    {
     "name": "stdout",
     "output_type": "stream",
     "text": [
      "Password is invalid. Make sure it meets the complexity rules.\n"
     ]
    }
   ],
   "source": [
    "import re\n",
    "\n",
    "def is_valid_password(password):\n",
    "    \n",
    "    if len(password) < 8:\n",
    "        return False\n",
    "    if not re.search(r'[A-Z]', password):\n",
    "        return False\n",
    "    if not re.search(r'[a-z]', password):\n",
    "        return False\n",
    "    if not re.search(r'\\d', password):\n",
    "        return False\n",
    "    if not re.search(r'[!@#\\$%^&*()_+{}\\[\\]:;<>,.?~\\\\-]', password):\n",
    "        return False\n",
    "    return True\n",
    "if __name__ == \"__main__\":\n",
    "    password = input(\"Enter a password: \")\n",
    "\n",
    "    if is_valid_password(password):\n",
    "        print(\"Password is valid.\")\n",
    "    else:\n",
    "        print(\"Password is invalid. Make sure it meets the complexity rules.\")\n"
   ]
  },
  {
   "cell_type": "markdown",
   "id": "97f733d4-06bc-48c7-96fe-fda8aafb3325",
   "metadata": {},
   "source": [
    "32. Develop a program that performs matrix addition and subtraction based on user input."
   ]
  },
  {
   "cell_type": "code",
   "execution_count": 3,
   "id": "d77a9ce6-61cb-486f-9198-230b9eebcf02",
   "metadata": {},
   "outputs": [
    {
     "name": "stdin",
     "output_type": "stream",
     "text": [
      "Enter the number of rows for the matrices:  3\n",
      "Enter the number of columns for the matrices:  4\n"
     ]
    },
    {
     "name": "stdout",
     "output_type": "stream",
     "text": [
      "Enter elements for the first matrix:\n"
     ]
    },
    {
     "name": "stdin",
     "output_type": "stream",
     "text": [
      "Enter element at row 1, column 1:  4\n",
      "Enter element at row 1, column 2:  5\n",
      "Enter element at row 1, column 3:  6\n",
      "Enter element at row 1, column 4:  2\n",
      "Enter element at row 2, column 1:  3\n",
      "Enter element at row 2, column 2:  21\n",
      "Enter element at row 2, column 3:  3\n",
      "Enter element at row 2, column 4:  23\n",
      "Enter element at row 3, column 1:  12\n",
      "Enter element at row 3, column 2:  32\n",
      "Enter element at row 3, column 3:  44\n",
      "Enter element at row 3, column 4:  54\n"
     ]
    },
    {
     "name": "stdout",
     "output_type": "stream",
     "text": [
      "Enter elements for the second matrix:\n"
     ]
    },
    {
     "name": "stdin",
     "output_type": "stream",
     "text": [
      "Enter element at row 1, column 1:  65\n",
      "Enter element at row 1, column 2:  433\n",
      "Enter element at row 1, column 3:  32\n",
      "Enter element at row 1, column 4:  3\n",
      "Enter element at row 2, column 1:  23\n",
      "Enter element at row 2, column 2:  2\n",
      "Enter element at row 2, column 3:  34\n",
      "Enter element at row 2, column 4:  8\n",
      "Enter element at row 3, column 1:  78\n",
      "Enter element at row 3, column 2:  78\n",
      "Enter element at row 3, column 3:  65\n",
      "Enter element at row 3, column 4:  76\n"
     ]
    },
    {
     "name": "stdout",
     "output_type": "stream",
     "text": [
      "Matrix 1:\n",
      "4.0 5.0 6.0 2.0\n",
      "3.0 21.0 3.0 23.0\n",
      "12.0 32.0 44.0 54.0\n",
      "Matrix 2:\n",
      "65.0 433.0 32.0 3.0\n",
      "23.0 2.0 34.0 8.0\n",
      "78.0 78.0 65.0 76.0\n",
      "Matrix Addition Result:\n",
      "69.0 438.0 38.0 5.0\n",
      "26.0 23.0 37.0 31.0\n",
      "90.0 110.0 109.0 130.0\n",
      "Matrix Subtraction Result:\n",
      "-61.0 -428.0 -26.0 -1.0\n",
      "-20.0 19.0 -31.0 15.0\n",
      "-66.0 -46.0 -21.0 -22.0\n"
     ]
    }
   ],
   "source": [
    "def input_matrix(rows, columns):\n",
    "    matrix = []\n",
    "    for i in range(rows):\n",
    "        row = []\n",
    "        for j in range(columns):\n",
    "            element = float(input(f\"Enter element at row {i+1}, column {j+1}: \"))\n",
    "            row.append(element)\n",
    "        matrix.append(row)\n",
    "    return matrix\n",
    "\n",
    "def print_matrix(matrix):\n",
    "    for row in matrix:\n",
    "        print(\" \".join(map(str, row)))\n",
    "\n",
    "def add_matrices(matrix1, matrix2):\n",
    "    if len(matrix1) != len(matrix2) or len(matrix1[0]) != len(matrix2[0]):\n",
    "        return None \n",
    "\n",
    "    result = []\n",
    "    for i in range(len(matrix1)):\n",
    "        row = []\n",
    "        for j in range(len(matrix1[0])):\n",
    "            row.append(matrix1[i][j] + matrix2[i][j])\n",
    "        result.append(row)\n",
    "    return result\n",
    "\n",
    "def subtract_matrices(matrix1, matrix2):\n",
    "    if len(matrix1) != len(matrix2) or len(matrix1[0]) != len(matrix2[0]):\n",
    "        return None \n",
    "\n",
    "    result = []\n",
    "    for i in range(len(matrix1)):\n",
    "        row = []\n",
    "        for j in range(len(matrix1[0])):\n",
    "            row.append(matrix1[i][j] - matrix2[i][j])\n",
    "        result.append(row)\n",
    "    return result\n",
    "\n",
    "if __name__ == \"__main__\":\n",
    "    rows = int(input(\"Enter the number of rows for the matrices: \"))\n",
    "    columns = int(input(\"Enter the number of columns for the matrices: \"))\n",
    "print(\"Enter elements for the first matrix:\")\n",
    "    matrix1 = input_matrix(rows, columns)\n",
    "    \n",
    "    print(\"Enter elements for the second matrix:\")\n",
    "    matrix2 = input_matrix(rows, columns)\n",
    "\n",
    "    print(\"Matrix 1:\")\n",
    "    print_matrix(matrix1)\n",
    "\n",
    "    print(\"Matrix 2:\")\n",
    "    print_matrix(matrix2)\n",
    "\n",
    "    addition_result = add_matrices(matrix1, matrix2)\n",
    "    if addition_result:\n",
    "        print(\"Matrix Addition Result:\")\n",
    "        print_matrix(addition_result)\n",
    "    else:\n",
    "        print(\"Matrix addition is not possible due to mismatched dimensions.\")\n",
    "\n",
    "    subtraction_result = subtract_matrices(matrix1, matrix2)\n",
    "    if subtraction_result:\n",
    "        print(\"Matrix Subtraction Result:\")\n",
    "        print_matrix(subtraction_result)\n",
    "    else:\n",
    "        print(\"Matrix subtraction is not possible due to mismatched dimensions.\")\n"
   ]
  },
  {
   "cell_type": "markdown",
   "id": "f154bd29-4b40-43f2-9bb8-e4e3955f030d",
   "metadata": {},
   "source": [
    "33. Write a program that calculates the greatest common divisor (GCD) of two numbers using the Euclidean\n",
    "algorithm."
   ]
  },
  {
   "cell_type": "code",
   "execution_count": 5,
   "id": "a5f4f79d-7099-4213-9192-be1a9a1182fa",
   "metadata": {},
   "outputs": [
    {
     "name": "stdin",
     "output_type": "stream",
     "text": [
      "Enter the first number:  2\n",
      "Enter the second number:  5\n"
     ]
    },
    {
     "name": "stdout",
     "output_type": "stream",
     "text": [
      "The GCD of 2 and 5 is 1.\n"
     ]
    }
   ],
   "source": [
    "def euclidean_gcd(a, b):\n",
    "    while b:\n",
    "        a, b = b, a % b\n",
    "    return a\n",
    "if __name__ == \"__main__\":\n",
    "    num1 = int(input(\"Enter the first number: \"))\n",
    "    num2 = int(input(\"Enter the second number: \"))\n",
    "\n",
    "    gcd = euclidean_gcd(num1, num2)\n",
    "\n",
    "    print(f\"The GCD of {num1} and {num2} is {gcd}.\")\n"
   ]
  },
  {
   "cell_type": "markdown",
   "id": "11175d40-d55c-428a-8b40-746b400d6595",
   "metadata": {},
   "source": [
    "34. Build a program that performs matrix multiplication using nested loops and conditional statements."
   ]
  },
  {
   "cell_type": "code",
   "execution_count": 9,
   "id": "dbc4aeec-f25f-41bf-a5c2-7e440819ccfd",
   "metadata": {},
   "outputs": [
    {
     "name": "stdin",
     "output_type": "stream",
     "text": [
      "Enter the number of rows for the first matrix:  2\n",
      "Enter the number of columns for the first matrix:  2\n",
      "Enter the number of rows for the second matrix:  2\n",
      "Enter the number of columns for the second matrix:  2\n"
     ]
    },
    {
     "name": "stdout",
     "output_type": "stream",
     "text": [
      "Enter elements for the first matrix:\n"
     ]
    },
    {
     "name": "stdin",
     "output_type": "stream",
     "text": [
      "Enter element at row 1, column 1:  1\n",
      "Enter element at row 1, column 2:  2\n",
      "Enter element at row 2, column 1:  3\n",
      "Enter element at row 2, column 2:  4\n"
     ]
    },
    {
     "name": "stdout",
     "output_type": "stream",
     "text": [
      "Enter elements for the second matrix:\n"
     ]
    },
    {
     "name": "stdin",
     "output_type": "stream",
     "text": [
      "Enter element at row 1, column 1:  5\n",
      "Enter element at row 1, column 2:  6\n",
      "Enter element at row 2, column 1:  7\n",
      "Enter element at row 2, column 2:  8\n"
     ]
    },
    {
     "name": "stdout",
     "output_type": "stream",
     "text": [
      "Matrix 1:\n",
      "1.0 2.0\n",
      "3.0 4.0\n",
      "Matrix 2:\n",
      "5.0 6.0\n",
      "7.0 8.0\n",
      "Matrix Multiplication Result:\n",
      "19.0 22.0\n",
      "43.0 50.0\n"
     ]
    }
   ],
   "source": [
    "def matrix_multiplication(matrix1, matrix2):\n",
    "    if len(matrix1[0]) != len(matrix2):\n",
    "        return None\n",
    "\n",
    "    result = []\n",
    "    for i in range(len(matrix1)):\n",
    "        row = []\n",
    "        for j in range(len(matrix2[0])):\n",
    "            element = 0\n",
    "            for k in range(len(matrix2)):\n",
    "                element += matrix1[i][k] * matrix2[k][j]\n",
    "            row.append(element)\n",
    "        result.append(row)\n",
    "    return result\n",
    "\n",
    "def input_matrix(rows, columns):\n",
    "    matrix = []\n",
    "    for i in range(rows):\n",
    "        row = []\n",
    "        for j in range(columns):\n",
    "            element = float(input(f\"Enter element at row {i+1}, column {j+1}: \"))\n",
    "            row.append(element)\n",
    "        matrix.append(row)\n",
    "    return matrix\n",
    "\n",
    "def print_matrix(matrix):\n",
    "    for row in matrix:\n",
    "        print(\" \".join(map(str, row)))\n",
    "\n",
    "if __name__ == \"__main__\":\n",
    "    rows1 = int(input(\"Enter the number of rows for the first matrix: \"))\n",
    "    columns1 = int(input(\"Enter the number of columns for the first matrix: \"))\n",
    "    \n",
    "    rows2 = int(input(\"Enter the number of rows for the second matrix: \"))\n",
    "    columns2 = int(input(\"Enter the number of columns for the second matrix: \"))\n",
    "\n",
    "    if columns1 != rows2:\n",
    "        print(\"Matrix multiplication is not possible due to incompatible dimensions.\")\n",
    "    else:\n",
    "        print(\"Enter elements for the first matrix:\")\n",
    "        matrix1 = input_matrix(rows1, columns1)\n",
    "\n",
    "        print(\"Enter elements for the second matrix:\")\n",
    "        matrix2 = input_matrix(rows2, columns2)\n",
    "\n",
    "        print(\"Matrix 1:\")\n",
    "        print_matrix(matrix1)\n",
    "\n",
    "        print(\"Matrix 2:\")\n",
    "        print_matrix(matrix2)\n",
    "\n",
    "        multiplication_result = matrix_multiplication(matrix1, matrix2)\n",
    "        if multiplication_result:\n",
    "            print(\"Matrix Multiplication Result:\")\n",
    "            print_matrix(multiplication_result)\n",
    "        else:\n",
    "            print(\"Matrix multiplication is not possible due to incompatible dimensions.\")\n"
   ]
  },
  {
   "cell_type": "markdown",
   "id": "3c4aba7e-6f0f-4b9f-9019-a0af46ed9168",
   "metadata": {},
   "source": [
    "35. Create a program that simulates a basic text-based tic-tac-toe game against the computer."
   ]
  },
  {
   "cell_type": "code",
   "execution_count": 21,
   "id": "e02e0abc-d948-4366-a6dd-821e4db5c3e9",
   "metadata": {},
   "outputs": [
    {
     "name": "stdout",
     "output_type": "stream",
     "text": [
      "Welcome to Tic-Tac-Toe! You are 'X', and the computer is 'O'.\n",
      "  |   |  \n",
      "---------\n",
      "  |   |  \n",
      "---------\n",
      "  |   |  \n",
      "---------\n"
     ]
    },
    {
     "name": "stdin",
     "output_type": "stream",
     "text": [
      "Enter your move (row and column, e.g., '1 2'):  1 2\n"
     ]
    },
    {
     "name": "stdout",
     "output_type": "stream",
     "text": [
      "  |   |  \n",
      "---------\n",
      "  |   | X\n",
      "---------\n",
      "  |   |  \n",
      "---------\n",
      "Computer's turn:\n",
      "Computer plays 3 1\n",
      "  |   |  \n",
      "---------\n",
      "  |   | X\n",
      "---------\n",
      "O |   |  \n",
      "---------\n"
     ]
    },
    {
     "name": "stdin",
     "output_type": "stream",
     "text": [
      "Enter your move (row and column, e.g., '1 2'):  2 1\n"
     ]
    },
    {
     "name": "stdout",
     "output_type": "stream",
     "text": [
      "  |   |  \n",
      "---------\n",
      "  |   | X\n",
      "---------\n",
      "O | X |  \n",
      "---------\n",
      "Computer's turn:\n",
      "Computer plays 1 2\n",
      "  | O |  \n",
      "---------\n",
      "  |   | X\n",
      "---------\n",
      "O | X |  \n",
      "---------\n"
     ]
    },
    {
     "name": "stdin",
     "output_type": "stream",
     "text": [
      "Enter your move (row and column, e.g., '1 2'):  0 2\n"
     ]
    },
    {
     "name": "stdout",
     "output_type": "stream",
     "text": [
      "  | O | X\n",
      "---------\n",
      "  |   | X\n",
      "---------\n",
      "O | X |  \n",
      "---------\n",
      "Computer's turn:\n",
      "Computer plays 2 1\n",
      "  | O | X\n",
      "---------\n",
      "O |   | X\n",
      "---------\n",
      "O | X |  \n",
      "---------\n"
     ]
    },
    {
     "name": "stdin",
     "output_type": "stream",
     "text": [
      "Enter your move (row and column, e.g., '1 2'):  2 2\n"
     ]
    },
    {
     "name": "stdout",
     "output_type": "stream",
     "text": [
      "  | O | X\n",
      "---------\n",
      "O |   | X\n",
      "---------\n",
      "O | X | X\n",
      "---------\n",
      "Player 'X' wins! Congratulations!\n"
     ]
    }
   ],
   "source": [
    "import random\n",
    "\n",
    "def print_board(board):\n",
    "    for row in board:\n",
    "        print(\" | \".join(row))\n",
    "        print(\"-\" * 9)\n",
    "\n",
    "def check_win(board, player):\n",
    "    for row in board:\n",
    "        if all(cell == player for cell in row):\n",
    "            return True\n",
    "    for col in range(3):\n",
    "        if all(row[col] == player for row in board):\n",
    "            return True\n",
    "    if all(board[i][i] == player for i in range(3)) or all(board[i][2 - i] == player for i in range(3)):\n",
    "        return True\n",
    "    return False\n",
    "\n",
    "def is_full(board):\n",
    "    return all(cell != \" \" for row in board for cell in row)\n",
    "\n",
    "def computer_move(board):\n",
    "    empty_cells = [(i, j) for i in range(3) for j in range(3) if board[i][j] == \" \"]\n",
    "    return random.choice(empty_cells)\n",
    "\n",
    "def play_game():\n",
    "    board = [[\" \" for _ in range(3)] for _ in range(3)]\n",
    "    player = \"X\"\n",
    "    computer = \"O\"\n",
    "\n",
    "    print(\"Welcome to Tic-Tac-Toe! You are 'X', and the computer is 'O'.\")\n",
    "\n",
    "    while True:\n",
    "        print_board(board)\n",
    "        if player == \"X\":\n",
    "            row, col = map(int, input(\"Enter your move (row and column, e.g., '1 2'): \").split())\n",
    "        else:\n",
    "            print(\"Computer's turn:\")\n",
    "            row, col = computer_move(board)\n",
    "            print(f\"Computer plays {row + 1} {col + 1}\")\n",
    "\n",
    "        if board[row][col] == \" \":\n",
    "            board[row][col] = player\n",
    "        else:\n",
    "            print(\"Invalid move. That cell is already taken. Try again.\")\n",
    "            continue\n",
    "\n",
    "        if check_win(board, player):\n",
    "            print_board(board)\n",
    "            print(f\"Player '{player}' wins! Congratulations!\")\n",
    "            break\n",
    "\n",
    "        if is_full(board):\n",
    "            print_board(board)\n",
    "            print(\"It's a draw!\")\n",
    "            break\n",
    "\n",
    "        player, computer = computer, player\n",
    "\n",
    "if __name__ == \"__main__\":\n",
    "    play_game()\n",
    "\n",
    "       "
   ]
  },
  {
   "cell_type": "markdown",
   "id": "ce308805-0544-438d-807b-47703c6bb35f",
   "metadata": {},
   "source": [
    "36. Write a program that generates Fibonacci numbers up to a specified term using iterative methods."
   ]
  },
  {
   "cell_type": "code",
   "execution_count": 22,
   "id": "f3d547e4-4a3c-4dc8-8ed1-aa22cd322e7c",
   "metadata": {},
   "outputs": [
    {
     "name": "stdin",
     "output_type": "stream",
     "text": [
      "Enter the number of Fibonacci terms to generate:  4\n"
     ]
    },
    {
     "name": "stdout",
     "output_type": "stream",
     "text": [
      "Fibonacci Sequence:\n",
      "[0, 1, 1, 2]\n"
     ]
    }
   ],
   "source": [
    "def generate_fibonacci(n):\n",
    "    if n <= 0:\n",
    "        return []\n",
    "\n",
    "    fibonacci_sequence = [0]\n",
    "    if n == 1:\n",
    "        return fibonacci_sequence\n",
    "\n",
    "    a, b = 0, 1\n",
    "    while len(fibonacci_sequence) < n:\n",
    "        fibonacci_sequence.append(b)\n",
    "        a, b = b, a + b\n",
    "\n",
    "    return fibonacci_sequence\n",
    "if __name__ == \"__main__\":\n",
    "    n = int(input(\"Enter the number of Fibonacci terms to generate: \"))\n",
    "    fibonacci_sequence = generate_fibonacci(n)\n",
    "    print(\"Fibonacci Sequence:\")\n",
    "    print(fibonacci_sequence)\n"
   ]
  },
  {
   "cell_type": "markdown",
   "id": "678a7538-a354-4ea9-9e45-e082db547806",
   "metadata": {},
   "source": [
    "37. Develop a program that calculates the nth term of the Fibonacci sequence using memoization."
   ]
  },
  {
   "cell_type": "code",
   "execution_count": 23,
   "id": "15656658-5ca9-458f-832d-f913c1017050",
   "metadata": {},
   "outputs": [
    {
     "name": "stdin",
     "output_type": "stream",
     "text": [
      "Enter the value of n to calculate the nth Fibonacci number:  12\n"
     ]
    },
    {
     "name": "stdout",
     "output_type": "stream",
     "text": [
      "The 12th Fibonacci number is: 144\n"
     ]
    }
   ],
   "source": [
    "fibonacci_cache = {}\n",
    "def calculate_fibonacci(n):\n",
    "    if n in fibonacci_cache:\n",
    "        \n",
    "        return fibonacci_cache[n]\n",
    "    if n <= 1:\n",
    "        return n\n",
    "    \n",
    "    result = calculate_fibonacci(n - 1) + calculate_fibonacci(n - 2)\n",
    "    fibonacci_cache[n] = result\n",
    "    return result\n",
    "if __name__ == \"__main__\":\n",
    "    n = int(input(\"Enter the value of n to calculate the nth Fibonacci number: \"))\n",
    "\n",
    "    if n < 0:\n",
    "        print(\"Please enter a non-negative integer.\")\n",
    "    else:\n",
    "        nth_fibonacci = calculate_fibonacci(n)\n",
    "        print(f\"The {n}th Fibonacci number is: {nth_fibonacci}\")\n"
   ]
  },
  {
   "cell_type": "markdown",
   "id": "55a535fb-6a8c-4d39-aae2-9d98f8e318a8",
   "metadata": {},
   "source": [
    "38. Create a program that generates a calendar for a given month and year using conditional statements."
   ]
  },
  {
   "cell_type": "code",
   "execution_count": 24,
   "id": "997c7fd3-1690-4776-b67c-72c9dfd30392",
   "metadata": {},
   "outputs": [
    {
     "name": "stdin",
     "output_type": "stream",
     "text": [
      "Enter the year (e.g., 2023):  2022\n",
      "Enter the month (1-12):  4\n"
     ]
    },
    {
     "name": "stdout",
     "output_type": "stream",
     "text": [
      "Calendar for April 2022:\n",
      "     April 2022\n",
      "Mo Tu We Th Fr Sa Su\n",
      "             1  2  3\n",
      " 4  5  6  7  8  9 10\n",
      "11 12 13 14 15 16 17\n",
      "18 19 20 21 22 23 24\n",
      "25 26 27 28 29 30\n",
      "\n"
     ]
    }
   ],
   "source": [
    "import calendar\n",
    "def generate_calendar(year, month):\n",
    "    cal = calendar.month(year, month)\n",
    "    return cal\n",
    "if __name__ == \"__main__\":\n",
    "    year = int(input(\"Enter the year (e.g., 2023): \"))\n",
    "    month = int(input(\"Enter the month (1-12): \"))\n",
    "\n",
    "    if 1 <= month <= 12:\n",
    "        cal = generate_calendar(year, month)\n",
    "        print(f\"Calendar for {calendar.month_name[month]} {year}:\")\n",
    "        print(cal)\n",
    "    else:\n",
    "        print(\"Invalid month. Please enter a month between 1 and 12.\")\n"
   ]
  },
  {
   "cell_type": "markdown",
   "id": "d087b6b7-adb4-4f82-b6c9-06787995686b",
   "metadata": {},
   "source": [
    "39. Build a program that simulates a basic text-based blackjack game against the computer."
   ]
  },
  {
   "cell_type": "code",
   "execution_count": 27,
   "id": "7c0aa77e-70e5-459c-9d03-bca0a15c3be4",
   "metadata": {},
   "outputs": [
    {
     "name": "stdout",
     "output_type": "stream",
     "text": [
      "Welcome to Blackjack!\n"
     ]
    },
    {
     "name": "stdin",
     "output_type": "stream",
     "text": [
      "Do you want to play a round of Blackjack? Type 'yes' or 'no':  yes\n"
     ]
    },
    {
     "name": "stdout",
     "output_type": "stream",
     "text": [
      "Your hand: [('King', 'Spades', 10), ('Seven', 'Hearts', 8)] Score: 18\n",
      "Computer's face-up card: ('Three', 'Diamonds', 4)\n"
     ]
    },
    {
     "name": "stdin",
     "output_type": "stream",
     "text": [
      "Do you want to 'hit' or 'stand'?  stand\n"
     ]
    },
    {
     "name": "stdout",
     "output_type": "stream",
     "text": [
      "Computer's hand: [('Three', 'Diamonds', 4), ('Five', 'Clubs', 2), ('Ten', 'Diamonds', 9), ('Queen', 'Clubs', 3)] Score: 18\n",
      "Computer wins!\n"
     ]
    },
    {
     "name": "stdin",
     "output_type": "stream",
     "text": [
      "Do you want to play a round of Blackjack? Type 'yes' or 'no':  no\n"
     ]
    }
   ],
   "source": [
    "import random\n",
    "suits = ['Hearts', 'Diamonds', 'Clubs', 'Spades']\n",
    "ranks = ['Two', 'Three', 'Four', 'Five', 'Six', 'Seven', 'Eight', 'Nine', 'Ten', 'Jack', 'Queen', 'King', 'Ace']\n",
    "values = [2, 3, 4, 5, 6, 7, 8, 9, 10, 10, 10, 10, 11]  # Ace can be 11 or 1\n",
    "def get_new_deck():\n",
    "    return [(rank, suit, value) for rank in ranks for suit in suits for value in values]\n",
    "def deal_card(deck):\n",
    "    card = random.choice(deck)\n",
    "    deck.remove(card)\n",
    "    return card\n",
    "def calculate_score(hand):\n",
    "    score = sum(card[2] for card in hand)\n",
    "    if score > 21 and any(card[0] == 'Ace' for card in hand):\n",
    "        for card in hand:\n",
    "            if card[0] == 'Ace' and card[2] == 11:\n",
    "                card = list(card)\n",
    "                card[2] = 1\n",
    "                score -= 10\n",
    "                break\n",
    "    return score\n",
    "def blackjack():\n",
    "    player_hand = [deal_card(deck), deal_card(deck)]\n",
    "    computer_hand = [deal_card(deck), deal_card(deck)]\n",
    "\n",
    "    while True:\n",
    "        print(\"Your hand:\", player_hand, \"Score:\", calculate_score(player_hand))\n",
    "        print(\"Computer's face-up card:\", computer_hand[0])\n",
    "\n",
    "        if calculate_score(player_hand) == 21:\n",
    "            print(\"Blackjack! You win!\")\n",
    "            return\n",
    "        elif calculate_score(player_hand) > 21:\n",
    "            print(\"Bust! You lose.\")\n",
    "            return\n",
    "\n",
    "        action = input(\"Do you want to 'hit' or 'stand'? \").lower()\n",
    "        if action == 'hit':\n",
    "            player_hand.append(deal_card(deck))\n",
    "        elif action == 'stand':\n",
    "            while calculate_score(computer_hand) < 17:\n",
    "                computer_hand.append(deal_card(deck))\n",
    "            print(\"Computer's hand:\", computer_hand, \"Score:\", calculate_score(computer_hand))\n",
    "            if calculate_score(computer_hand) > 21:\n",
    "                print(\"Computer busts! You win!\")\n",
    "            elif calculate_score(computer_hand) >= calculate_score(player_hand):\n",
    "                print(\"Computer wins!\")\n",
    "            else:\n",
    "                print(\"You win!\")\n",
    "            return\n",
    "        else:\n",
    "            print(\"Please enter 'hit' or 'stand'.\")\n",
    "\n",
    "if __name__ == \"__main__\":\n",
    "    print(\"Welcome to Blackjack!\")\n",
    "    while True:\n",
    "        deck = get_new_deck()\n",
    "        random.shuffle(deck)\n",
    "        play_again = input(\"Do you want to play a round of Blackjack? Type 'yes' or 'no': \").lower()\n",
    "        if play_again != 'yes':\n",
    "            break\n",
    "        blackjack()\n"
   ]
  },
  {
   "cell_type": "markdown",
   "id": "bb1d5c72-1671-4f55-85e6-4d44d68552d8",
   "metadata": {},
   "source": [
    "40. Write a program that generates the prime factors of a given number using trial division."
   ]
  },
  {
   "cell_type": "code",
   "execution_count": 28,
   "id": "fd5aac89-2569-4bc7-84dc-b64162779784",
   "metadata": {},
   "outputs": [
    {
     "name": "stdin",
     "output_type": "stream",
     "text": [
      "Enter a number to find its prime factors:  57\n"
     ]
    },
    {
     "name": "stdout",
     "output_type": "stream",
     "text": [
      "Prime factors of 57: 3, 19\n"
     ]
    }
   ],
   "source": [
    "def prime_factors(n):\n",
    "    factors = []\n",
    "    divisor = 2\n",
    "    while divisor <= n:\n",
    "        if n % divisor == 0:\n",
    "            factors.append(divisor)\n",
    "            n //= divisor\n",
    "        else:\n",
    "            divisor += 1\n",
    "\n",
    "    return factors\n",
    "if __name__ == \"__main__\":\n",
    "    num = int(input(\"Enter a number to find its prime factors: \"))\n",
    "    if num < 2:\n",
    "        print(\"Prime factors are not defined for numbers less than 2.\")\n",
    "    else:\n",
    "        factors = prime_factors(num)\n",
    "        if len(factors) == 1:\n",
    "            print(f\"{num} is a prime number, and its only prime factor is itself.\")\n",
    "        else:\n",
    "            print(f\"Prime factors of {num}: {', '.join(map(str, factors))}\")\n"
   ]
  },
  {
   "cell_type": "code",
   "execution_count": null,
   "id": "ac5b0e79-d649-407e-9ae1-d4d3948327af",
   "metadata": {},
   "outputs": [],
   "source": []
  }
 ],
 "metadata": {
  "kernelspec": {
   "display_name": "Python 3 (ipykernel)",
   "language": "python",
   "name": "python3"
  },
  "language_info": {
   "codemirror_mode": {
    "name": "ipython",
    "version": 3
   },
   "file_extension": ".py",
   "mimetype": "text/x-python",
   "name": "python",
   "nbconvert_exporter": "python",
   "pygments_lexer": "ipython3",
   "version": "3.10.8"
  }
 },
 "nbformat": 4,
 "nbformat_minor": 5
}
